{
 "cells": [
  {
   "cell_type": "markdown",
   "metadata": {},
   "source": [
    "# DrivenData: Heart disease prediction using Logistic Regression and SVM\n",
    "\n",
    "###### BY ANNE DE GRAAF\n",
    "\n",
    "This notebook is meant to show my train of thoughts during the development of prediction model for the heart disease warm-up exercise on DrivenData.org. \n",
    "\n",
    "[key words: ...]"
   ]
  },
  {
   "cell_type": "code",
   "execution_count": 1,
   "metadata": {},
   "outputs": [],
   "source": [
    "import pandas as pd \n",
    "import numpy as np \n",
    "from scipy.stats import chi2_contingency\n",
    "from functions import logLoss\n",
    "from matplotlib import pyplot as plt\n",
    "%matplotlib inline\n",
    "\n",
    "from sklearn.model_selection import StratifiedKFold, train_test_split, KFold\n",
    "from sklearn.preprocessing import PolynomialFeatures, StandardScaler\n",
    "from sklearn.linear_model import LogisticRegression, Lasso, SGDClassifier\n",
    "from sklearn.pipeline import Pipeline\n",
    "from sklearn.feature_selection import SelectKBest"
   ]
  },
  {
   "cell_type": "markdown",
   "metadata": {},
   "source": [
    "## Loading data"
   ]
  },
  {
   "cell_type": "code",
   "execution_count": 2,
   "metadata": {},
   "outputs": [],
   "source": [
    "# load (normalized) training data\n",
    "X = pd.read_csv('../train_values_normalized.csv', index_col=0)\n",
    "y = pd.read_csv('../train_labels.csv', index_col=0)\n",
    "\n",
    "# load (normalized) test data\n",
    "X_test = pd.read_csv('../test_values_normalized.csv', index_col=0)"
   ]
  },
  {
   "cell_type": "code",
   "execution_count": 3,
   "metadata": {},
   "outputs": [],
   "source": [
    "# adding polynomial features to the set\n",
    "\n",
    "# only polynomials of the numerical features are included:\n",
    "numeric_cols = ['resting_blood_pressure', 'num_major_vessels', 'fasting_blood_sugar_gt_120_mg_per_dl', \n",
    "                     'serum_cholesterol_mg_per_dl', 'oldpeak_eq_st_depression', 'age', 'max_heart_rate_achieved']\n",
    "\n",
    "# the rest of the columns are categorical data:\n",
    "categoric_data = X.copy()\n",
    "categoric_data.drop(numeric_cols, axis=1, inplace=True)\n",
    "\n",
    "# make 2nd degree poly features from numerical data\n",
    "polynomials = PolynomialFeatures(degree=2, interaction_only=False, include_bias=True)\n",
    "poly_features = polynomials.fit_transform(X[numeric_cols])\n",
    "\n",
    "# normalize data to mean=0 and std=1\n",
    "scaler = StandardScaler(copy=False, with_mean=True, with_std=True).fit(poly_features)\n",
    "poly_features = scaler.transform(poly_features)\n",
    "# note: the intercept is here normalized to zero. We correct this further below.\n",
    "\n",
    "# make data frame with all data\n",
    "poly_train_df = pd.DataFrame(data=poly_features,\n",
    "                             index=X.index,\n",
    "                             columns=polynomials.get_feature_names(numeric_cols))\n",
    "poly_train_df = poly_train_df.join(categoric_data)\n",
    "poly_train_df['1'] = 1.0 # intercept was changed to zero by normalization. We have to correct that. "
   ]
  },
  {
   "cell_type": "code",
   "execution_count": 4,
   "metadata": {},
   "outputs": [],
   "source": [
    "# make poly df for test set\n",
    "categoric_test = X_test.copy()\n",
    "categoric_test.drop(numeric_cols, axis=1, inplace=True)\n",
    "poly_test = polynomials.fit_transform(X_test[numeric_cols])\n",
    "poly_test = scaler.transform(poly_test)\n",
    "poly_test_df = pd.DataFrame(data=poly_test,\n",
    "                           index=X_test.index,\n",
    "                           columns=polynomials.get_feature_names(numeric_cols))\n",
    "poly_test_df = poly_test_df.join(categoric_test)"
   ]
  },
  {
   "cell_type": "code",
   "execution_count": null,
   "metadata": {},
   "outputs": [],
   "source": []
  },
  {
   "cell_type": "code",
   "execution_count": 5,
   "metadata": {},
   "outputs": [],
   "source": [
    "# load original data\n",
    "X_raw = pd.read_csv('../train_values.csv', index_col=0)\n",
    "y_raw = pd.read_csv('../train_labels.csv', index_col=0)\n",
    "\n",
    "# split data in train and crossval 70:30\n",
    "X_train, X_test, y_train, y_test = train_test_split(X_raw, \n",
    "                y_raw, test_size=0.3, random_state=7)"
   ]
  },
  {
   "cell_type": "markdown",
   "metadata": {},
   "source": [
    "## Feature selection: categorical features (using Pearson's chi-squared test)"
   ]
  },
  {
   "cell_type": "code",
   "execution_count": 42,
   "metadata": {},
   "outputs": [
    {
     "name": "stdout",
     "output_type": "stream",
     "text": [
      "P is 0.000588\n",
      "H0 rejected, no indepence. Use feature in model.\n",
      "  \n",
      "Contingency table:\n"
     ]
    },
    {
     "data": {
      "text/html": [
       "<div>\n",
       "<style scoped>\n",
       "    .dataframe tbody tr th:only-of-type {\n",
       "        vertical-align: middle;\n",
       "    }\n",
       "\n",
       "    .dataframe tbody tr th {\n",
       "        vertical-align: top;\n",
       "    }\n",
       "\n",
       "    .dataframe thead th {\n",
       "        text-align: right;\n",
       "    }\n",
       "</style>\n",
       "<table border=\"1\" class=\"dataframe\">\n",
       "  <thead>\n",
       "    <tr style=\"text-align: right;\">\n",
       "      <th>sex</th>\n",
       "      <th>0</th>\n",
       "      <th>1</th>\n",
       "    </tr>\n",
       "    <tr>\n",
       "      <th>heart_disease_present</th>\n",
       "      <th></th>\n",
       "      <th></th>\n",
       "    </tr>\n",
       "  </thead>\n",
       "  <tbody>\n",
       "    <tr>\n",
       "      <th>0</th>\n",
       "      <td>33</td>\n",
       "      <td>39</td>\n",
       "    </tr>\n",
       "    <tr>\n",
       "      <th>1</th>\n",
       "      <td>9</td>\n",
       "      <td>45</td>\n",
       "    </tr>\n",
       "  </tbody>\n",
       "</table>\n",
       "</div>"
      ],
      "text/plain": [
       "sex                     0   1\n",
       "heart_disease_present        \n",
       "0                      33  39\n",
       "1                       9  45"
      ]
     },
     "execution_count": 42,
     "metadata": {},
     "output_type": "execute_result"
    }
   ],
   "source": [
    "# 1. sex vs heart disease\n",
    "\n",
    "ct_table1 = pd.crosstab(y_train['heart_disease_present'], X_train['sex'], margins=False)\n",
    "chi2, p, dof, ex = chi2_contingency(ct_table1, correction=False)\n",
    "# print(chi2, p, dof, ex)\n",
    "\n",
    "print( 'P is %f' %p )\n",
    "if p <= 0.05:\n",
    "    print('H0 rejected, no indepence. Use feature in model.')\n",
    "else:\n",
    "    print('H0 not rejected, indepence. Do not use feature in model.')\n",
    "\n",
    "print('  ')\n",
    "print('Contingency table:')\n",
    "ct_table1"
   ]
  },
  {
   "cell_type": "code",
   "execution_count": 8,
   "metadata": {},
   "outputs": [
    {
     "name": "stdout",
     "output_type": "stream",
     "text": [
      "P is 0.000000\n",
      "H0 rejected, no indepence. Use feature in model.\n",
      "  \n",
      "Contingency table:\n"
     ]
    },
    {
     "data": {
      "text/html": [
       "<div>\n",
       "<style scoped>\n",
       "    .dataframe tbody tr th:only-of-type {\n",
       "        vertical-align: middle;\n",
       "    }\n",
       "\n",
       "    .dataframe tbody tr th {\n",
       "        vertical-align: top;\n",
       "    }\n",
       "\n",
       "    .dataframe thead th {\n",
       "        text-align: right;\n",
       "    }\n",
       "</style>\n",
       "<table border=\"1\" class=\"dataframe\">\n",
       "  <thead>\n",
       "    <tr style=\"text-align: right;\">\n",
       "      <th>exercise_induced_angina</th>\n",
       "      <th>0</th>\n",
       "      <th>1</th>\n",
       "    </tr>\n",
       "    <tr>\n",
       "      <th>heart_disease_present</th>\n",
       "      <th></th>\n",
       "      <th></th>\n",
       "    </tr>\n",
       "  </thead>\n",
       "  <tbody>\n",
       "    <tr>\n",
       "      <th>0</th>\n",
       "      <td>63</td>\n",
       "      <td>9</td>\n",
       "    </tr>\n",
       "    <tr>\n",
       "      <th>1</th>\n",
       "      <td>21</td>\n",
       "      <td>33</td>\n",
       "    </tr>\n",
       "  </tbody>\n",
       "</table>\n",
       "</div>"
      ],
      "text/plain": [
       "exercise_induced_angina   0   1\n",
       "heart_disease_present          \n",
       "0                        63   9\n",
       "1                        21  33"
      ]
     },
     "execution_count": 8,
     "metadata": {},
     "output_type": "execute_result"
    }
   ],
   "source": [
    "# 2. exercise induced angina vs heart disease\n",
    "ct_table2 = pd.crosstab(y_train['heart_disease_present'], X_train['exercise_induced_angina'], margins=False)\n",
    "chi2, p, dof, ex = chi2_contingency(ct_table2, correction=False)\n",
    "# print(chi2, p, dof, ex)\n",
    "\n",
    "print( 'P is %f' %p )\n",
    "if p <= 0.05:\n",
    "    print('H0 rejected, no indepence. Use feature in model.')\n",
    "else:\n",
    "    print('H0 not rejected, indepence. Do not use feature in model.')\n",
    "\n",
    "print('  ')\n",
    "print('Contingency table:')\n",
    "ct_table2"
   ]
  },
  {
   "cell_type": "code",
   "execution_count": 9,
   "metadata": {},
   "outputs": [
    {
     "name": "stdout",
     "output_type": "stream",
     "text": [
      "P is 0.000304\n",
      "H0 rejected, no indepence. Use feature in model.\n",
      "  \n",
      "Contingency table:\n"
     ]
    },
    {
     "data": {
      "text/html": [
       "<div>\n",
       "<style scoped>\n",
       "    .dataframe tbody tr th:only-of-type {\n",
       "        vertical-align: middle;\n",
       "    }\n",
       "\n",
       "    .dataframe tbody tr th {\n",
       "        vertical-align: top;\n",
       "    }\n",
       "\n",
       "    .dataframe thead th {\n",
       "        text-align: right;\n",
       "    }\n",
       "</style>\n",
       "<table border=\"1\" class=\"dataframe\">\n",
       "  <thead>\n",
       "    <tr style=\"text-align: right;\">\n",
       "      <th>slope_of_peak_exercise_st_segment</th>\n",
       "      <th>1</th>\n",
       "      <th>2</th>\n",
       "      <th>3</th>\n",
       "    </tr>\n",
       "    <tr>\n",
       "      <th>heart_disease_present</th>\n",
       "      <th></th>\n",
       "      <th></th>\n",
       "      <th></th>\n",
       "    </tr>\n",
       "  </thead>\n",
       "  <tbody>\n",
       "    <tr>\n",
       "      <th>0</th>\n",
       "      <td>46</td>\n",
       "      <td>22</td>\n",
       "      <td>4</td>\n",
       "    </tr>\n",
       "    <tr>\n",
       "      <th>1</th>\n",
       "      <td>15</td>\n",
       "      <td>34</td>\n",
       "      <td>5</td>\n",
       "    </tr>\n",
       "  </tbody>\n",
       "</table>\n",
       "</div>"
      ],
      "text/plain": [
       "slope_of_peak_exercise_st_segment   1   2  3\n",
       "heart_disease_present                       \n",
       "0                                  46  22  4\n",
       "1                                  15  34  5"
      ]
     },
     "execution_count": 9,
     "metadata": {},
     "output_type": "execute_result"
    }
   ],
   "source": [
    "# 3. slope of peak exercise st segment vs heart disease\n",
    "ct_table3 = pd.crosstab(y_train['heart_disease_present'], X_train['slope_of_peak_exercise_st_segment'], margins=False)\n",
    "chi2, p, dof, ex = chi2_contingency(ct_table3, correction=False)\n",
    "# print(chi2, p, dof, ex)\n",
    "\n",
    "print( 'P is %f' %p )\n",
    "if p <= 0.05:\n",
    "    print('H0 rejected, no indepence. Use feature in model.')\n",
    "else:\n",
    "    print('H0 not rejected, indepence. Do not use feature in model.')\n",
    "\n",
    "print('  ')\n",
    "print('Contingency table:')\n",
    "ct_table3"
   ]
  },
  {
   "cell_type": "code",
   "execution_count": 10,
   "metadata": {},
   "outputs": [
    {
     "name": "stdout",
     "output_type": "stream",
     "text": [
      "P is 0.000000\n",
      "H0 rejected, no indepence. Use feature in model.\n",
      "  \n",
      "Contingency table:\n"
     ]
    },
    {
     "data": {
      "text/html": [
       "<div>\n",
       "<style scoped>\n",
       "    .dataframe tbody tr th:only-of-type {\n",
       "        vertical-align: middle;\n",
       "    }\n",
       "\n",
       "    .dataframe tbody tr th {\n",
       "        vertical-align: top;\n",
       "    }\n",
       "\n",
       "    .dataframe thead th {\n",
       "        text-align: right;\n",
       "    }\n",
       "</style>\n",
       "<table border=\"1\" class=\"dataframe\">\n",
       "  <thead>\n",
       "    <tr style=\"text-align: right;\">\n",
       "      <th>thal</th>\n",
       "      <th>fixed_defect</th>\n",
       "      <th>normal</th>\n",
       "      <th>reversible_defect</th>\n",
       "    </tr>\n",
       "    <tr>\n",
       "      <th>heart_disease_present</th>\n",
       "      <th></th>\n",
       "      <th></th>\n",
       "      <th></th>\n",
       "    </tr>\n",
       "  </thead>\n",
       "  <tbody>\n",
       "    <tr>\n",
       "      <th>0</th>\n",
       "      <td>3</td>\n",
       "      <td>55</td>\n",
       "      <td>14</td>\n",
       "    </tr>\n",
       "    <tr>\n",
       "      <th>1</th>\n",
       "      <td>2</td>\n",
       "      <td>13</td>\n",
       "      <td>39</td>\n",
       "    </tr>\n",
       "  </tbody>\n",
       "</table>\n",
       "</div>"
      ],
      "text/plain": [
       "thal                   fixed_defect  normal  reversible_defect\n",
       "heart_disease_present                                         \n",
       "0                                 3      55                 14\n",
       "1                                 2      13                 39"
      ]
     },
     "execution_count": 10,
     "metadata": {},
     "output_type": "execute_result"
    }
   ],
   "source": [
    "# 4. thal vs heart disease\n",
    "ct_table4 = pd.crosstab(y_train['heart_disease_present'], X_train['thal'], margins=False)\n",
    "chi2, p, dof, ex = chi2_contingency(ct_table4, correction=True)\n",
    "# print(chi2, p, dof, ex)\n",
    "\n",
    "print( 'P is %f' %p )\n",
    "if p <= 0.05:\n",
    "    print('H0 rejected, no indepence. Use feature in model.')\n",
    "else:\n",
    "    print('H0 not rejected, indepence. Do not use feature in model.')\n",
    "\n",
    "print('  ')\n",
    "print('Contingency table:')\n",
    "ct_table4"
   ]
  },
  {
   "cell_type": "code",
   "execution_count": 11,
   "metadata": {},
   "outputs": [
    {
     "name": "stdout",
     "output_type": "stream",
     "text": [
      "P is 0.000000\n",
      "H0 rejected, no indepence. Use feature in model.\n",
      "  \n",
      "Contingency table:\n"
     ]
    },
    {
     "data": {
      "text/html": [
       "<div>\n",
       "<style scoped>\n",
       "    .dataframe tbody tr th:only-of-type {\n",
       "        vertical-align: middle;\n",
       "    }\n",
       "\n",
       "    .dataframe tbody tr th {\n",
       "        vertical-align: top;\n",
       "    }\n",
       "\n",
       "    .dataframe thead th {\n",
       "        text-align: right;\n",
       "    }\n",
       "</style>\n",
       "<table border=\"1\" class=\"dataframe\">\n",
       "  <thead>\n",
       "    <tr style=\"text-align: right;\">\n",
       "      <th>chest_pain_type</th>\n",
       "      <th>1</th>\n",
       "      <th>2</th>\n",
       "      <th>3</th>\n",
       "      <th>4</th>\n",
       "    </tr>\n",
       "    <tr>\n",
       "      <th>heart_disease_present</th>\n",
       "      <th></th>\n",
       "      <th></th>\n",
       "      <th></th>\n",
       "      <th></th>\n",
       "    </tr>\n",
       "  </thead>\n",
       "  <tbody>\n",
       "    <tr>\n",
       "      <th>0</th>\n",
       "      <td>6</td>\n",
       "      <td>18</td>\n",
       "      <td>32</td>\n",
       "      <td>16</td>\n",
       "    </tr>\n",
       "    <tr>\n",
       "      <th>1</th>\n",
       "      <td>2</td>\n",
       "      <td>2</td>\n",
       "      <td>8</td>\n",
       "      <td>42</td>\n",
       "    </tr>\n",
       "  </tbody>\n",
       "</table>\n",
       "</div>"
      ],
      "text/plain": [
       "chest_pain_type        1   2   3   4\n",
       "heart_disease_present               \n",
       "0                      6  18  32  16\n",
       "1                      2   2   8  42"
      ]
     },
     "execution_count": 11,
     "metadata": {},
     "output_type": "execute_result"
    }
   ],
   "source": [
    "# 5. chest pain type vs heart disease\n",
    "ct_table5 = pd.crosstab(y_train['heart_disease_present'], X_train['chest_pain_type'], margins=False)\n",
    "chi2, p, dof, ex = chi2_contingency(ct_table5, correction=True)\n",
    "# print(chi2, p, dof, ex)\n",
    "\n",
    "print( 'P is %f' %p )\n",
    "if p <= 0.05:\n",
    "    print('H0 rejected, no indepence. Use feature in model.')\n",
    "else:\n",
    "    print('H0 not rejected, indepence. Do not use feature in model.')\n",
    "\n",
    "print('  ')\n",
    "print('Contingency table:')\n",
    "ct_table5"
   ]
  },
  {
   "cell_type": "code",
   "execution_count": 12,
   "metadata": {},
   "outputs": [
    {
     "name": "stdout",
     "output_type": "stream",
     "text": [
      "P is 0.298733\n",
      "H0 not rejected, indepence. Do not use feature in model.\n",
      "  \n",
      "Contingency table:\n"
     ]
    },
    {
     "data": {
      "text/html": [
       "<div>\n",
       "<style scoped>\n",
       "    .dataframe tbody tr th:only-of-type {\n",
       "        vertical-align: middle;\n",
       "    }\n",
       "\n",
       "    .dataframe tbody tr th {\n",
       "        vertical-align: top;\n",
       "    }\n",
       "\n",
       "    .dataframe thead th {\n",
       "        text-align: right;\n",
       "    }\n",
       "</style>\n",
       "<table border=\"1\" class=\"dataframe\">\n",
       "  <thead>\n",
       "    <tr style=\"text-align: right;\">\n",
       "      <th>resting_ekg_results</th>\n",
       "      <th>0</th>\n",
       "      <th>1</th>\n",
       "      <th>2</th>\n",
       "    </tr>\n",
       "    <tr>\n",
       "      <th>heart_disease_present</th>\n",
       "      <th></th>\n",
       "      <th></th>\n",
       "      <th></th>\n",
       "    </tr>\n",
       "  </thead>\n",
       "  <tbody>\n",
       "    <tr>\n",
       "      <th>0</th>\n",
       "      <td>38</td>\n",
       "      <td>0</td>\n",
       "      <td>34</td>\n",
       "    </tr>\n",
       "    <tr>\n",
       "      <th>1</th>\n",
       "      <td>23</td>\n",
       "      <td>1</td>\n",
       "      <td>30</td>\n",
       "    </tr>\n",
       "  </tbody>\n",
       "</table>\n",
       "</div>"
      ],
      "text/plain": [
       "resting_ekg_results     0  1   2\n",
       "heart_disease_present           \n",
       "0                      38  0  34\n",
       "1                      23  1  30"
      ]
     },
     "execution_count": 12,
     "metadata": {},
     "output_type": "execute_result"
    }
   ],
   "source": [
    "# 6. resting EKG results vs heart disease\n",
    "ct_table6 = pd.crosstab(y_train['heart_disease_present'], X_train['resting_ekg_results'], margins=False)\n",
    "chi2, p, dof, ex = chi2_contingency(ct_table6, correction=True)\n",
    "# print(chi2, p, dof, ex)\n",
    "\n",
    "print( 'P is %f' %p )\n",
    "if p <= 0.05:\n",
    "    print('H0 rejected, no indepence. Use feature in model.')\n",
    "else:\n",
    "    print('H0 not rejected, indepence. Do not use feature in model.')\n",
    "\n",
    "print('  ')\n",
    "print('Contingency table:')\n",
    "ct_table6"
   ]
  },
  {
   "cell_type": "code",
   "execution_count": 13,
   "metadata": {},
   "outputs": [],
   "source": [
    "# deleting Resting EKG results from datasets\n",
    "EKG_cols = ['restingEkg_0', 'restingEkg_1', 'restingEkg_2']\n",
    "poly_train_df.drop(EKG_cols, axis=1, inplace=True)\n",
    "poly_test_df.drop(EKG_cols, axis=1, inplace=True)"
   ]
  },
  {
   "cell_type": "markdown",
   "metadata": {},
   "source": [
    "## Feature selection: numerical features (using the Lasso)"
   ]
  },
  {
   "cell_type": "code",
   "execution_count": 58,
   "metadata": {},
   "outputs": [
    {
     "name": "stderr",
     "output_type": "stream",
     "text": [
      "functions.py:12: RuntimeWarning: divide by zero encountered in log\n",
      "  J = -1.0/n * ( np.dot( np.transpose(y), np.log(predictions) ) +\n",
      "functions.py:13: RuntimeWarning: divide by zero encountered in log\n",
      "  np.dot( np.transpose(ones-y),np.log(ones-predictions) ))\n"
     ]
    },
    {
     "data": {
      "image/png": "[encoded data removed]",
      "text/plain": [
       "<Figure size 432x288 with 1 Axes>"
      ]
     },
     "metadata": {
      "needs_background": "light"
     },
     "output_type": "display_data"
    }
   ],
   "source": [
    "X = poly_train_df\n",
    "C_list = np.arange(.1, 5.0, .2)\n",
    "crossVal_loss = np.zeros(len(C_list))\n",
    "\n",
    "for j in range(len(C_list)):\n",
    "    str_kFold = StratifiedKFold(n_splits=10, shuffle=False)\n",
    "    crossVal_performance = np.zeros(str_kFold.get_n_splits())\n",
    "    logRes_params = LogisticRegression(penalty='l1', C=C_list[j], \n",
    "                    fit_intercept=False, tol=1e-8, solver='liblinear', max_iter=300)\n",
    "    i=int(0)\n",
    "    for iTrain, iCross in str_kFold.split(X, y):\n",
    "        X_train, X_cross = X.iloc[iTrain], X.iloc[iCross]\n",
    "        y_train, y_cross = y.iloc[iTrain], y.iloc[iCross]\n",
    "        model_i = logRes_params.fit(X_train, np.ravel(y_train))\n",
    "        prob_i = model_i.predict_proba(X_cross)\n",
    "        crossVal_performance[i] = logLoss(y_cross, prob_i)[0,1]\n",
    "        i+=1\n",
    "    crossVal_loss[j] = np.mean(crossVal_performance)\n",
    "\n",
    "plt.plot(C_list, crossVal_loss)\n",
    "plt.xlabel('C')\n",
    "plt.ylabel('Crossvalidation performance')\n",
    "plt.title('What C to choose?');"
   ]
  },
  {
   "cell_type": "code",
   "execution_count": 60,
   "metadata": {},
   "outputs": [
    {
     "name": "stdout",
     "output_type": "stream",
     "text": [
      "C=0.30 seems optimal\n"
     ]
    },
    {
     "data": {
      "image/png": "[encoded data removed]",
      "text/plain": [
       "<Figure size 432x288 with 1 Axes>"
      ]
     },
     "metadata": {
      "needs_background": "light"
     },
     "output_type": "display_data"
    }
   ],
   "source": [
    "# \"zooming in\" on minimum. Change C_list\n",
    "C_list = np.arange(.1, 1.0, .05)\n",
    "crossVal_loss = np.zeros(len(C_list))\n",
    "\n",
    "for j in range(len(C_list)):\n",
    "    str_kFold = StratifiedKFold(n_splits=10, shuffle=False)\n",
    "    crossVal_performance = np.zeros(str_kFold.get_n_splits())\n",
    "    logRes_params = LogisticRegression(penalty='l1', C=C_list[j], \n",
    "                    fit_intercept=False, tol=1e-8, solver='liblinear', max_iter=300)\n",
    "    i=int(0)\n",
    "    for iTrain, iCross in str_kFold.split(X, y):\n",
    "        X_train, X_cross = X.iloc[iTrain], X.iloc[iCross]\n",
    "        y_train, y_cross = y.iloc[iTrain], y.iloc[iCross]\n",
    "        model_i = logRes_params.fit(X_train, np.ravel(y_train))\n",
    "        prob_i = model_i.predict_proba(X_cross)\n",
    "        crossVal_performance[i] = logLoss(y_cross, prob_i)[0,1]\n",
    "        i+=1\n",
    "    crossVal_loss[j] = np.mean(crossVal_performance)\n",
    "\n",
    "plt.plot(C_list, crossVal_loss)\n",
    "plt.xlabel('C')\n",
    "plt.ylabel('Crossvalidation performance')\n",
    "plt.title('Zooming in: What C to choose?');\n",
    "\n",
    "print('C=0.30 seems optimal')"
   ]
  },
  {
   "cell_type": "code",
   "execution_count": 63,
   "metadata": {},
   "outputs": [
    {
     "name": "stdout",
     "output_type": "stream",
     "text": [
      "crossval performance: 0.44953\n",
      "train performance: 0.39380\n"
     ]
    }
   ],
   "source": [
    "# the model with C=0.20:\n",
    "logRes_params = LogisticRegression(penalty='l1', C=0.20, \n",
    "        fit_intercept=False, tol=1e-8, solver='liblinear', max_iter=300)\n",
    "\n",
    "# performance on crossval set:\n",
    "str_kFold = StratifiedKFold(n_splits=10, shuffle=False)\n",
    "crossVal_performance = np.zeros(str_kFold.get_n_splits())\n",
    "i=int(0)\n",
    "for iTrain, iCross in str_kFold.split(X, y):\n",
    "    X_train, X_cross = X.iloc[iTrain], X.iloc[iCross]\n",
    "    y_train, y_cross = y.iloc[iTrain], y.iloc[iCross]\n",
    "    model_i = logRes_params.fit(X_train, np.ravel(y_train))\n",
    "    prob_i = model_i.predict_proba(X_cross)\n",
    "    crossVal_performance[i] = logLoss(y_cross, prob_i)[0,1]\n",
    "    i+=1\n",
    "print('crossval performance: %0.5f' %np.mean(crossVal_performance))\n",
    "\n",
    "# performance on entire train set:\n",
    "logRes_fit = logRes_params.fit(X, np.ravel(y))\n",
    "train_prob = logRes_fit.predict_proba(X)\n",
    "print('train performance: %0.5f' %logLoss(y, train_prob)[0,1])"
   ]
  },
  {
   "cell_type": "code",
   "execution_count": 65,
   "metadata": {},
   "outputs": [
    {
     "name": "stdout",
     "output_type": "stream",
     "text": [
      "gives a test performance of 0.38174\n"
     ]
    }
   ],
   "source": [
    "# performance on test set:\n",
    "test_probab = logRes_fit.predict_proba(poly_test_df)[:,1]\n",
    "\n",
    "# saving test results\n",
    "d = {'heart_disease_present': test_probab}\n",
    "submission_df = pd.DataFrame(data=d, index=poly_test_df.index)\n",
    "submission_df.to_csv('../logResModel_Lasso1_results.csv')\n",
    "\n",
    "print('gives a test performance of 0.38174')"
   ]
  },
  {
   "cell_type": "markdown",
   "metadata": {},
   "source": [
    "Let's try if an elastic net can improve results. "
   ]
  },
  {
   "cell_type": "code",
   "execution_count": 66,
   "metadata": {},
   "outputs": [],
   "source": [
    "alpha_list = np.arange(0.1, 5.1, 0.5)\n",
    "ratio_list = np.arange(0.0, 1.0, 0.1)\n",
    "crossVal_loss = np.zeros((len(alpha_list), len(ratio_list)))\n",
    "\n",
    "for j in range(len(alpha_list)):\n",
    "    for k in range(len(ratio_list)): \n",
    "        elasticNet_params =  SGDClassifier(loss='log', penalty='elasticnet', \n",
    "            alpha=alpha_list[j], l1_ratio=ratio_list[k], fit_intercept=False, \n",
    "            max_iter=300)\n",
    "        str_kFold = StratifiedKFold(n_splits=10, shuffle=False)\n",
    "        crossVal_performance = np.zeros(str_kFold.get_n_splits())\n",
    "        i=int(0)\n",
    "        for iTrain, iCross in str_kFold.split(X, y):\n",
    "            X_train, X_cross = X.iloc[iTrain], X.iloc[iCross]\n",
    "            y_train, y_cross = y.iloc[iTrain], y.iloc[iCross]\n",
    "            model_i = elasticNet_params.fit(X_train, np.ravel(y_train))\n",
    "            prob_i = model_i.predict_proba(X_cross)\n",
    "            crossVal_performance[i] = logLoss(y_cross, prob_i)[0,1]\n",
    "            i+=1\n",
    "        crossVal_loss[j,k] = np.mean(crossVal_performance)"
   ]
  },
  {
   "cell_type": "code",
   "execution_count": 67,
   "metadata": {},
   "outputs": [
    {
     "name": "stdout",
     "output_type": "stream",
     "text": [
      "best performance is: 0.45741\n",
      "best alpha is: 0.100000\n",
      "best ratio is: 0.000000\n"
     ]
    }
   ],
   "source": [
    "best_fit = crossVal_loss.min()\n",
    "index_j, index_k = np.unravel_index(np.argmin(crossVal_loss), crossVal_loss.shape)\n",
    "print('best performance is: %0.5f' %best_fit)\n",
    "print('best alpha is: %f' %alpha_list[index_j])\n",
    "print('best ratio is: %f' %ratio_list[index_k])"
   ]
  },
  {
   "cell_type": "code",
   "execution_count": 69,
   "metadata": {},
   "outputs": [
    {
     "name": "stdout",
     "output_type": "stream",
     "text": [
      "best performance is: 0.44115\n",
      "best alpha is: 0.030000\n",
      "best ratio is: 0.500000\n"
     ]
    }
   ],
   "source": [
    "# Doing it again with smaller alphas..\n",
    "alpha_list = np.arange(0.01, 0.2, 0.01)\n",
    "ratio_list = np.arange(0.0, 1.0, 0.1)\n",
    "crossVal_loss = np.zeros((len(alpha_list), len(ratio_list)))\n",
    "\n",
    "for j in range(len(alpha_list)):\n",
    "    for k in range(len(ratio_list)): \n",
    "        elasticNet_params =  SGDClassifier(loss='log', penalty='elasticnet', \n",
    "            alpha=alpha_list[j], l1_ratio=ratio_list[k], fit_intercept=False, \n",
    "            max_iter=300)\n",
    "        str_kFold = StratifiedKFold(n_splits=10, shuffle=False)\n",
    "        crossVal_performance = np.zeros(str_kFold.get_n_splits())\n",
    "        i=int(0)\n",
    "        for iTrain, iCross in str_kFold.split(X, y):\n",
    "            X_train, X_cross = X.iloc[iTrain], X.iloc[iCross]\n",
    "            y_train, y_cross = y.iloc[iTrain], y.iloc[iCross]\n",
    "            model_i = elasticNet_params.fit(X_train, np.ravel(y_train))\n",
    "            prob_i = model_i.predict_proba(X_cross)\n",
    "            crossVal_performance[i] = logLoss(y_cross, prob_i)[0,1]\n",
    "            i+=1\n",
    "        crossVal_loss[j,k] = np.mean(crossVal_performance)\n",
    "        \n",
    "best_fit = crossVal_loss.min()\n",
    "index_j, index_k = np.unravel_index(np.argmin(crossVal_loss), crossVal_loss.shape)\n",
    "print('best performance is: %0.5f' %best_fit)\n",
    "print('best alpha is: %f' %alpha_list[index_j])\n",
    "print('best ratio is: %f' %ratio_list[index_k])"
   ]
  },
  {
   "cell_type": "code",
   "execution_count": 70,
   "metadata": {},
   "outputs": [
    {
     "name": "stdout",
     "output_type": "stream",
     "text": [
      "best performance is: 0.43907\n",
      "best alpha is: 0.025000\n",
      "best ratio is: 0.550000\n"
     ]
    }
   ],
   "source": [
    "# Again..\n",
    "alpha_list = np.arange(0.02, 0.04, 0.001)\n",
    "ratio_list = np.arange(0.3, 0.7, 0.05)\n",
    "crossVal_loss = np.zeros((len(alpha_list), len(ratio_list)))\n",
    "\n",
    "for j in range(len(alpha_list)):\n",
    "    for k in range(len(ratio_list)): \n",
    "        elasticNet_params =  SGDClassifier(loss='log', penalty='elasticnet', \n",
    "            alpha=alpha_list[j], l1_ratio=ratio_list[k], fit_intercept=False, \n",
    "            max_iter=300)\n",
    "        str_kFold = StratifiedKFold(n_splits=10, shuffle=False)\n",
    "        crossVal_performance = np.zeros(str_kFold.get_n_splits())\n",
    "        i=int(0)\n",
    "        for iTrain, iCross in str_kFold.split(X, y):\n",
    "            X_train, X_cross = X.iloc[iTrain], X.iloc[iCross]\n",
    "            y_train, y_cross = y.iloc[iTrain], y.iloc[iCross]\n",
    "            model_i = elasticNet_params.fit(X_train, np.ravel(y_train))\n",
    "            prob_i = model_i.predict_proba(X_cross)\n",
    "            crossVal_performance[i] = logLoss(y_cross, prob_i)[0,1]\n",
    "            i+=1\n",
    "        crossVal_loss[j,k] = np.mean(crossVal_performance)\n",
    "        \n",
    "best_fit = crossVal_loss.min()\n",
    "index_j, index_k = np.unravel_index(np.argmin(crossVal_loss), crossVal_loss.shape)\n",
    "print('best performance is: %0.5f' %best_fit)\n",
    "print('best alpha is: %f' %alpha_list[index_j])\n",
    "print('best ratio is: %f' %ratio_list[index_k])\n"
   ]
  },
  {
   "cell_type": "code",
   "execution_count": 71,
   "metadata": {},
   "outputs": [
    {
     "name": "stdout",
     "output_type": "stream",
     "text": [
      "best performance is: 0.45986\n",
      "best alpha is: 0.036000\n",
      "best ratio is: 0.650000\n"
     ]
    }
   ],
   "source": [
    "# Because previous crossval results were varying, \n",
    "# let's try if we end up with the same hyperparams \n",
    "# if we use normal KFold instead of Stratified. \n",
    "alpha_list = np.arange(0.02, 0.04, 0.001)\n",
    "ratio_list = np.arange(0.3, 0.7, 0.05)\n",
    "crossVal_loss = np.zeros((len(alpha_list), len(ratio_list)))\n",
    "\n",
    "for j in range(len(alpha_list)):\n",
    "    for k in range(len(ratio_list)): \n",
    "        elasticNet_params =  SGDClassifier(loss='log', penalty='elasticnet', \n",
    "            alpha=alpha_list[j], l1_ratio=ratio_list[k], fit_intercept=False, \n",
    "            max_iter=300)\n",
    "        kFold = KFold(n_splits=10, shuffle=False)\n",
    "        crossVal_performance = np.zeros(kFold.get_n_splits())\n",
    "        i=int(0)\n",
    "        for iTrain, iCross in kFold.split(X, y):\n",
    "            X_train, X_cross = X.iloc[iTrain], X.iloc[iCross]\n",
    "            y_train, y_cross = y.iloc[iTrain], y.iloc[iCross]\n",
    "            model_i = elasticNet_params.fit(X_train, np.ravel(y_train))\n",
    "            prob_i = model_i.predict_proba(X_cross)\n",
    "            crossVal_performance[i] = logLoss(y_cross, prob_i)[0,1]\n",
    "            i+=1\n",
    "        crossVal_loss[j,k] = np.mean(crossVal_performance)\n",
    "        \n",
    "best_fit = crossVal_loss.min()\n",
    "index_j, index_k = np.unravel_index(np.argmin(crossVal_loss), crossVal_loss.shape)\n",
    "print('best performance is: %0.5f' %best_fit)\n",
    "print('best alpha is: %f' %alpha_list[index_j])\n",
    "print('best ratio is: %f' %ratio_list[index_k])"
   ]
  },
  {
   "cell_type": "markdown",
   "metadata": {},
   "source": [
    "Let's try stratified kfold results."
   ]
  },
  {
   "cell_type": "code",
   "execution_count": 73,
   "metadata": {},
   "outputs": [
    {
     "name": "stdout",
     "output_type": "stream",
     "text": [
      "train performance: 0.35651\n"
     ]
    }
   ],
   "source": [
    "a = 0.025\n",
    "r = 0.55\n",
    "\n",
    "# the model with optimal alpha and ratio:\n",
    "elNet_params = SGDClassifier(loss='log', penalty='elasticnet', \n",
    "            alpha=a, l1_ratio=r, fit_intercept=False, \n",
    "            max_iter=300)\n",
    "\n",
    "# performance on entire train set:\n",
    "elNet_fit = elNet_params.fit(X, np.ravel(y))\n",
    "train_prob = elNet_fit.predict_proba(X)\n",
    "print('train performance: %0.5f' %logLoss(y, train_prob)[0,1])\n",
    "\n",
    "# performance on test set:\n",
    "test_probab = elNet_fit.predict_proba(poly_test_df)[:,1]\n",
    "\n",
    "# saving test results\n",
    "d = {'heart_disease_present': test_probab}\n",
    "submission_df = pd.DataFrame(data=d, index=poly_test_df.index)\n",
    "submission_df.to_csv('../elasticNet_a025r55_results.csv')"
   ]
  },
  {
   "cell_type": "markdown",
   "metadata": {},
   "source": [
    "gives a test performance of 0.3719"
   ]
  },
  {
   "cell_type": "code",
   "execution_count": 74,
   "metadata": {},
   "outputs": [
    {
     "name": "stdout",
     "output_type": "stream",
     "text": [
      "best performance is: 0.47096\n",
      "best alpha is: 0.100000\n",
      "best ratio is: 0.000000\n"
     ]
    }
   ],
   "source": [
    "# leave 1 out crossvalidation\n",
    "alpha_list = np.arange(0.1, 2.1, 0.5)\n",
    "ratio_list = np.arange(0.0, 1.0, 0.1)\n",
    "crossVal_loss = np.zeros((len(alpha_list), len(ratio_list)))\n",
    "\n",
    "for j in range(len(alpha_list)):\n",
    "    for k in range(len(ratio_list)): \n",
    "        elasticNet_params =  SGDClassifier(loss='log', penalty='elasticnet', \n",
    "            alpha=alpha_list[j], l1_ratio=ratio_list[k], fit_intercept=False, \n",
    "            max_iter=300)\n",
    "        kFold = KFold(n_splits=180)\n",
    "        crossVal_performance = np.zeros(kFold.get_n_splits())\n",
    "        i=int(0)\n",
    "        for iTrain, iCross in kFold.split(X, y):\n",
    "            X_train, X_cross = X.iloc[iTrain], X.iloc[iCross]\n",
    "            y_train, y_cross = y.iloc[iTrain], y.iloc[iCross]\n",
    "            model_i = elasticNet_params.fit(X_train, np.ravel(y_train))\n",
    "            prob_i = model_i.predict_proba(X_cross)\n",
    "            crossVal_performance[i] = logLoss(y_cross, prob_i)[0,1]\n",
    "            i+=1\n",
    "        crossVal_loss[j,k] = np.mean(crossVal_performance)\n",
    "        \n",
    "best_fit = crossVal_loss.min()\n",
    "index_j, index_k = np.unravel_index(np.argmin(crossVal_loss), crossVal_loss.shape)\n",
    "print('best performance is: %0.5f' %best_fit)\n",
    "print('best alpha is: %f' %alpha_list[index_j])\n",
    "print('best ratio is: %f' %ratio_list[index_k])"
   ]
  },
  {
   "cell_type": "code",
   "execution_count": 26,
   "metadata": {},
   "outputs": [
    {
     "name": "stdout",
     "output_type": "stream",
     "text": [
      "best performance is: 0.45894\n",
      "best alpha is: 0.040000\n",
      "best ratio is: 0.700000\n"
     ]
    }
   ],
   "source": [
    "# leave 1 out crossvalidation, zooming in on optimal hyperparameters\n",
    "alpha_list = np.arange(0.01, 0.2, 0.01)\n",
    "ratio_list = np.arange(0.0, 1.0, 0.1)\n",
    "crossVal_loss = np.zeros((len(alpha_list), len(ratio_list)))\n",
    "\n",
    "for j in range(len(alpha_list)):\n",
    "    for k in range(len(ratio_list)): \n",
    "        elasticNet_params =  SGDClassifier(loss='log', penalty='elasticnet', \n",
    "            alpha=alpha_list[j], l1_ratio=ratio_list[k], fit_intercept=False, \n",
    "            max_iter=300)\n",
    "        kFold = KFold(n_splits=180)\n",
    "        crossVal_performance = np.zeros(kFold.get_n_splits())\n",
    "        i=int(0)\n",
    "        for iTrain, iCross in kFold.split(X, y):\n",
    "            X_train, X_cross = X.iloc[iTrain], X.iloc[iCross]\n",
    "            y_train, y_cross = y.iloc[iTrain], y.iloc[iCross]\n",
    "            model_i = elasticNet_params.fit(X_train, np.ravel(y_train))\n",
    "            prob_i = model_i.predict_proba(X_cross)\n",
    "            crossVal_performance[i] = logLoss(y_cross, prob_i)[0,1]\n",
    "            i+=1\n",
    "        crossVal_loss[j,k] = np.mean(crossVal_performance)\n",
    "        \n",
    "best_fit = crossVal_loss.min()\n",
    "index_j, index_k = np.unravel_index(np.argmin(crossVal_loss), crossVal_loss.shape)\n",
    "print('best performance is: %0.5f' %best_fit)\n",
    "print('best alpha is: %f' %alpha_list[index_j])\n",
    "print('best ratio is: %f' %ratio_list[index_k])"
   ]
  },
  {
   "cell_type": "code",
   "execution_count": 28,
   "metadata": {},
   "outputs": [
    {
     "name": "stdout",
     "output_type": "stream",
     "text": [
      "best performance is: 0.45130\n",
      "best alpha is: 0.031000\n",
      "best ratio is: 0.950000\n"
     ]
    }
   ],
   "source": [
    "alpha_list = np.arange(0.01, 0.09, 0.001)\n",
    "ratio_list = np.arange(0.5, 1.0, 0.05)\n",
    "crossVal_loss = np.zeros((len(alpha_list), len(ratio_list)))\n",
    "\n",
    "for j in range(len(alpha_list)):\n",
    "    for k in range(len(ratio_list)): \n",
    "        elasticNet_params =  SGDClassifier(loss='log', penalty='elasticnet', \n",
    "            alpha=alpha_list[j], l1_ratio=ratio_list[k], fit_intercept=False, \n",
    "            max_iter=300)\n",
    "        kFold = KFold(n_splits=180)\n",
    "        crossVal_performance = np.zeros(kFold.get_n_splits())\n",
    "        i=int(0)\n",
    "        for iTrain, iCross in kFold.split(X, y):\n",
    "            X_train, X_cross = X.iloc[iTrain], X.iloc[iCross]\n",
    "            y_train, y_cross = y.iloc[iTrain], y.iloc[iCross]\n",
    "            model_i = elasticNet_params.fit(X_train, np.ravel(y_train))\n",
    "            prob_i = model_i.predict_proba(X_cross)\n",
    "            crossVal_performance[i] = logLoss(y_cross, prob_i)[0,1]\n",
    "            i+=1\n",
    "        crossVal_loss[j,k] = np.mean(crossVal_performance)\n",
    "        \n",
    "best_fit = crossVal_loss.min()\n",
    "index_j, index_k = np.unravel_index(np.argmin(crossVal_loss), crossVal_loss.shape)\n",
    "print('best performance is: %0.5f' %best_fit)\n",
    "print('best alpha is: %f' %alpha_list[index_j])\n",
    "print('best ratio is: %f' %ratio_list[index_k])"
   ]
  },
  {
   "cell_type": "markdown",
   "metadata": {},
   "source": [
    "This doesn't give any improvement on the crossval set compared to the leave-one-out on the simple logistic regression. \n",
    "\n",
    "The last thing I want to try is performing forward stepwise feature selection with a logistic regression model.\n",
    "\n",
    "## Forward Stepwise feature selection"
   ]
  },
  {
   "cell_type": "code",
   "execution_count": 79,
   "metadata": {},
   "outputs": [
    {
     "name": "stdout",
     "output_type": "stream",
     "text": [
      "1\n"
     ]
    }
   ],
   "source": [
    "features = poly_train_df.copy()\n",
    "selection = pd.DataFrame(data=features['1'], \n",
    "                         index=features.index)\n",
    "features.drop('1', axis=1, inplace=True)\n",
    "print(len(selection.columns))\n",
    "\n",
    "while len(selection.columns < 40):\n",
    "    bestPerformance = 1.0\n",
    "    for col in features.columns:\n",
    "        # selection[col] = features[col]\n",
    "        # fit logres model and give crossval performance\n",
    "        # if performance < bestPerformance:\n",
    "        #    bestPerformance = performance\n",
    "        #    features.drop(col, axis=1, inplace=True)\n",
    "        # else:\n",
    "        #    selection.drop(col, axis=1, inplace=True)\n",
    "    \n",
    "    \n",
    "    \n"
   ]
  },
  {
   "cell_type": "code",
   "execution_count": null,
   "metadata": {},
   "outputs": [],
   "source": []
  }
 ],
 "metadata": {
  "kernelspec": {
   "display_name": "Python 2",
   "language": "python",
   "name": "python2"
  },
  "language_info": {
   "codemirror_mode": {
    "name": "ipython",
    "version": 2
   },
   "file_extension": ".py",
   "mimetype": "text/x-python",
   "name": "python",
   "nbconvert_exporter": "python",
   "pygments_lexer": "ipython2",
   "version": "2.7.15"
  }
 },
 "nbformat": 4,
 "nbformat_minor": 2
}
