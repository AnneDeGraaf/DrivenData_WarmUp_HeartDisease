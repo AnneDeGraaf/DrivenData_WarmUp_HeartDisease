{
 "cells": [
  {
   "cell_type": "markdown",
   "metadata": {},
   "source": [
    "# More model development"
   ]
  },
  {
   "cell_type": "code",
   "execution_count": 1,
   "metadata": {},
   "outputs": [],
   "source": [
    "import pandas as pd \n",
    "import numpy as np \n",
    "from functions import logLoss, logLoss2\n",
    "from matplotlib import pyplot as plt\n",
    "%matplotlib inline\n",
    "\n",
    "from sklearn.svm import LinearSVR\n",
    "from sklearn.model_selection import KFold, StratifiedKFold, train_test_split\n",
    "from sklearn.preprocessing import PolynomialFeatures\n",
    "from sklearn.linear_model import LogisticRegression"
   ]
  },
  {
   "cell_type": "code",
   "execution_count": 2,
   "metadata": {},
   "outputs": [],
   "source": [
    "# load training data\n",
    "X = pd.read_csv('../train_values_normalized.csv', index_col=0)\n",
    "y = pd.read_csv('../train_labels.csv', index_col=0)\n",
    "\n",
    "# load test data\n",
    "X_test = pd.read_csv('../test_values_normalized.csv', index_col=0)"
   ]
  },
  {
   "cell_type": "code",
   "execution_count": 3,
   "metadata": {},
   "outputs": [
    {
     "name": "stdout",
     "output_type": "stream",
     "text": [
      "[0.60149884 1.06357816 1.32922257 4.76940047 1.06357816 1.10608126\n",
      " 0.66507238]\n",
      "1.5140616930204638\n"
     ]
    }
   ],
   "source": [
    "linSVR = LinearSVR(C=0.7)\n",
    "\n",
    "k_fold = KFold(7, shuffle=False)\n",
    "k = k_fold.get_n_splits()\n",
    "k_score = np.zeros(k)\n",
    "i = 0\n",
    "for iTrain, iCross in k_fold.split(X):\n",
    "    X_train, X_cross = X.iloc[iTrain], X.iloc[iCross]\n",
    "    y_train, y_cross = y.iloc[iTrain], y.iloc[iCross]\n",
    "    model = linSVR.fit(X_train, np.ravel(y_train))\n",
    "    predictions = model.predict(X_cross)\n",
    "    predictions[predictions<0.001] = 0.001\n",
    "    predictions[predictions>0.999] = 0.999\n",
    "    k_score[i] = logLoss(y_cross, predictions)[0,1]\n",
    "    i += 1\n",
    "    \n",
    "print(k_score)\n",
    "print(np.mean(k_score))\n",
    "\n"
   ]
  },
  {
   "cell_type": "markdown",
   "metadata": {},
   "source": [
    "Yeah.., just forget about SVM...\n",
    "Let's try optimizing the logistic regression thing now.\n",
    "\n",
    "# Logistic Regression with polynomial features"
   ]
  },
  {
   "cell_type": "code",
   "execution_count": 4,
   "metadata": {},
   "outputs": [],
   "source": [
    "# adding the following features as polynomial:\n",
    "feature_selection = ['resting_blood_pressure', 'num_major_vessels', 'fasting_blood_sugar_gt_120_mg_per_dl', \n",
    "                     'serum_cholesterol_mg_per_dl', 'oldpeak_eq_st_depression', 'age', 'max_heart_rate_achieved']\n",
    "\n",
    "# the rest of the columns are categorical data:\n",
    "categorical_data = X.copy()\n",
    "categorical_data.drop(feature_selection, axis=1, inplace=True)\n",
    "\n",
    "# make df with interaction features + categorical features\n",
    "interaction = PolynomialFeatures(degree=2, interaction_only=True, include_bias=True)\n",
    "interaction_features = interaction.fit_transform(X[feature_selection])\n",
    "interaction_df = pd.DataFrame(data=interaction_features,\n",
    "                             index=X.index,\n",
    "                             columns=interaction.get_feature_names(feature_selection))\n",
    "interaction_df = interaction_df.join(categorical_data)\n",
    "\n",
    "# make df with all 2nd degree polynom. + categorical features\n",
    "polynomials = PolynomialFeatures(degree=2, interaction_only=False, include_bias=True)\n",
    "poly_features = polynomials.fit_transform(X[feature_selection])\n",
    "poly_df = pd.DataFrame(data=poly_features,\n",
    "                             index=X.index,\n",
    "                             columns=polynomials.get_feature_names(feature_selection))\n",
    "poly_df = poly_df.join(categorical_data)\n",
    "\n",
    "# make poly df for test set\n",
    "cat_test = X_test.copy()\n",
    "cat_test.drop(feature_selection, axis=1, inplace=True)\n",
    "poly_test = polynomials.fit_transform(X_test[feature_selection])\n",
    "poly_test_df = pd.DataFrame(data=poly_test,\n",
    "                           index=X_test.index,\n",
    "                           columns=polynomials.get_feature_names(feature_selection))\n",
    "poly_test_df = poly_test_df.join(cat_test)"
   ]
  },
  {
   "cell_type": "code",
   "execution_count": 5,
   "metadata": {},
   "outputs": [
    {
     "name": "stdout",
     "output_type": "stream",
     "text": [
      "cross-validation performance on given feature set: 0.43127\n",
      "log loss on training set is: 0.33812\n"
     ]
    }
   ],
   "source": [
    "# crossval performance for just the given features X:\n",
    "model1=LogisticRegression(penalty='l2', tol=1e-8, solver='liblinear')\n",
    "str_kFold = StratifiedKFold(n_splits=10, shuffle=True, random_state=1)\n",
    "crossVal_performance = np.zeros(str_kFold.get_n_splits())\n",
    "i=int(0)\n",
    "for iTrain, iCross in str_kFold.split(X, y):\n",
    "    X_train, X_cross = X.iloc[iTrain], X.iloc[iCross]\n",
    "    y_train, y_cross = y.iloc[iTrain], y.iloc[iCross]\n",
    "    model_fit = model1.fit(X_train, np.ravel(y_train))\n",
    "    prob_i = model_fit.predict_proba(X_cross)\n",
    "    crossVal_performance[i] = logLoss(y_cross, prob_i)[0,1]\n",
    "    i+=1\n",
    "crossValLoss1 = np.mean(crossVal_performance)   \n",
    "print('cross-validation performance on given feature set: %0.5f' %crossValLoss1)\n",
    "\n",
    "# training set performance using same model:\n",
    "trainModel1 = model1.fit(X, np.ravel(y))\n",
    "trainProb1 = trainModel1.predict_proba(X)\n",
    "trainLoss1 = logLoss(y, trainProb1)[0,1]\n",
    "print('log loss on training set is: %0.5f' %trainLoss1)"
   ]
  },
  {
   "cell_type": "code",
   "execution_count": 6,
   "metadata": {},
   "outputs": [
    {
     "name": "stdout",
     "output_type": "stream",
     "text": [
      "cross-validation performance on interaction_df: 0.48855\n",
      "log loss on training set is: 0.28249\n"
     ]
    }
   ],
   "source": [
    "# crossval performance for interaction features interaction_df:\n",
    "model2=LogisticRegression(penalty='l2', tol=1e-8, solver='liblinear')\n",
    "str_kFold = StratifiedKFold(n_splits=10, shuffle=True, random_state=1)\n",
    "crossVal_performance = np.zeros(str_kFold.get_n_splits())\n",
    "i=int(0)\n",
    "for iTrain, iCross in str_kFold.split(interaction_df, y):\n",
    "    X_train, X_cross = interaction_df.iloc[iTrain], interaction_df.iloc[iCross]\n",
    "    y_train, y_cross = y.iloc[iTrain], y.iloc[iCross]\n",
    "    model_fit = model2.fit(X_train, np.ravel(y_train))\n",
    "    prob_i = model_fit.predict_proba(X_cross)\n",
    "    crossVal_performance[i] = logLoss(y_cross, prob_i)[0,1]\n",
    "    i+=1\n",
    "crossValLoss2 = np.mean(crossVal_performance)     \n",
    "print('cross-validation performance on interaction_df: %0.5f' %crossValLoss2)\n",
    "\n",
    "# training set performance using same model:\n",
    "trainModel2 = model2.fit(interaction_df, np.ravel(y))\n",
    "trainProb2 = trainModel2.predict_proba(interaction_df)\n",
    "trainLoss2 = logLoss(y, trainProb2)[0,1]\n",
    "print('log loss on training set is: %0.5f' %trainLoss2)"
   ]
  },
  {
   "cell_type": "code",
   "execution_count": 7,
   "metadata": {},
   "outputs": [
    {
     "name": "stdout",
     "output_type": "stream",
     "text": [
      "cross-validation performance on poly_df: 0.58398\n",
      "log loss on training set is: 0.27334\n"
     ]
    }
   ],
   "source": [
    "# crossval performance for all polynomial features\n",
    "model3=LogisticRegression(penalty='l2', tol=1e-8, solver='liblinear')\n",
    "str_kFold = StratifiedKFold(n_splits=10, shuffle=True, random_state=1)\n",
    "crossVal_performance = np.zeros(str_kFold.get_n_splits())\n",
    "i=int(0)\n",
    "for iTrain, iCross in str_kFold.split(poly_df, y):\n",
    "    X_train, X_cross = poly_df.iloc[iTrain], poly_df.iloc[iCross]\n",
    "    y_train, y_cross = y.iloc[iTrain], y.iloc[iCross]\n",
    "    model_fit = model3.fit(X_train, np.ravel(y_train))\n",
    "    prob_i = model_fit.predict_proba(X_cross)\n",
    "    crossVal_performance[i] = logLoss(y_cross, prob_i)[0,1]\n",
    "    i+=1\n",
    "crossValLoss3 = np.mean(crossVal_performance)      \n",
    "print('cross-validation performance on poly_df: %0.5f' %crossValLoss3)\n",
    "\n",
    "# training set performance using same model:\n",
    "trainModel3 = model3.fit(poly_df, np.ravel(y))\n",
    "trainProb3 = trainModel3.predict_proba(poly_df)\n",
    "trainLoss3 = logLoss(y, trainProb3)[0,1]\n",
    "print('log loss on training set is: %0.5f' %trainLoss3)"
   ]
  },
  {
   "cell_type": "code",
   "execution_count": 8,
   "metadata": {},
   "outputs": [],
   "source": [
    "# loading test data\n",
    "prob_test_poly = trainModel3.predict_proba(poly_test_df)[:,1]\n",
    "\n",
    "# saving test results\n",
    "d = {'heart_disease_present': prob_test_poly}\n",
    "submission_df = pd.DataFrame(data=d, index=X_test.index)\n",
    "submission_df.to_csv('../logResModel_poly1_results.csv')"
   ]
  },
  {
   "cell_type": "code",
   "execution_count": null,
   "metadata": {},
   "outputs": [],
   "source": []
  },
  {
   "cell_type": "code",
   "execution_count": 14,
   "metadata": {},
   "outputs": [
    {
     "data": {
      "text/plain": [
       "Index([u'resting_blood_pressure', u'num_major_vessels',\n",
       "       u'fasting_blood_sugar_gt_120_mg_per_dl', u'serum_cholesterol_mg_per_dl',\n",
       "       u'oldpeak_eq_st_depression', u'sex', u'age', u'max_heart_rate_achieved',\n",
       "       u'exercise_induced_angina', u'slope_1', u'slope_2', u'slope_3',\n",
       "       u'fixed_defect', u'normal', u'reversible_defect', u'chestPain_1',\n",
       "       u'chestPain_2', u'chestPain_3', u'chestPain_4', u'restingEkg_0',\n",
       "       u'restingEkg_1', u'restingEkg_2'],\n",
       "      dtype='object')"
      ]
     },
     "execution_count": 14,
     "metadata": {},
     "output_type": "execute_result"
    }
   ],
   "source": [
    "X.columns"
   ]
  },
  {
   "cell_type": "code",
   "execution_count": 10,
   "metadata": {},
   "outputs": [
    {
     "name": "stdout",
     "output_type": "stream",
     "text": [
      "cross-validation performance on given feature set: 0.33812\n",
      "log loss on training set is: 0.33812\n"
     ]
    }
   ],
   "source": [
    "# crossval performance for just the given features X:\n",
    "model1=LogisticRegression(penalty='l2', tol=1e-8, solver='liblinear')\n",
    "str_kFold = StratifiedKFold(n_splits=10, shuffle=True, random_state=1)\n",
    "crossVal_performance = np.zeros(str_kFold.get_n_splits())\n",
    "i=int(0)\n",
    "for iTrain, iCross in str_kFold.split(X, y):\n",
    "    X_train, X_cross = X, X.iloc[iCross]\n",
    "    y_train, y_cross = y, y.iloc[iCross]\n",
    "    model_fit = model1.fit(X_train, np.ravel(y_train))\n",
    "    prob_i = model_fit.predict_proba(X_cross)\n",
    "    crossVal_performance[i] = logLoss(y_cross, prob_i)[0,1]\n",
    "    i+=1\n",
    "crossValLoss1 = np.mean(crossVal_performance)   \n",
    "print('cross-validation performance on given feature set: %0.5f' %crossValLoss1)\n",
    "\n",
    "# training set performance using same model:\n",
    "trainProb1 = model1.predict_proba(X)\n",
    "trainLoss1 = logLoss(y, trainProb1)[0,1]\n",
    "print('log loss on training set is: %0.5f' %trainLoss1)"
   ]
  },
  {
   "cell_type": "code",
   "execution_count": 11,
   "metadata": {},
   "outputs": [
    {
     "name": "stdout",
     "output_type": "stream",
     "text": [
      "cross-validation performance on given feature set: 0.43127\n",
      "[0.55236707 0.47552592 0.63128851 0.47797531 0.13959004 0.18798446\n",
      " 0.22042618 0.3953694  0.6545717  0.5776091 ]\n",
      "log loss on training set is: 0.34047\n"
     ]
    }
   ],
   "source": [
    "# crossval performance for just the given features X:\n",
    "model1=LogisticRegression(penalty='l2', tol=1e-8, solver='liblinear')\n",
    "str_kFold = StratifiedKFold(n_splits=10, shuffle=True, random_state=1)\n",
    "crossVal_performance = np.zeros(str_kFold.get_n_splits())\n",
    "i=int(0)\n",
    "for iTrain, iCross in str_kFold.split(X, y):\n",
    "    X_train, X_cross = X.iloc[iTrain], X.iloc[iCross]\n",
    "    y_train, y_cross = y.iloc[iTrain], y.iloc[iCross]\n",
    "    model_fit = model1.fit(X_train, np.ravel(y_train))\n",
    "    prob_i = model_fit.predict_proba(X_cross)\n",
    "    crossVal_performance[i] = logLoss(y_cross, prob_i)[0,1]\n",
    "    i+=1\n",
    "crossValLoss1 = np.mean(crossVal_performance)   \n",
    "print('cross-validation performance on given feature set: %0.5f' %crossValLoss1)\n",
    "print(crossVal_performance)\n",
    "\n",
    "# training set performance using same model:\n",
    "trainProb1 = model1.predict_proba(X)\n",
    "trainLoss1 = logLoss(y, trainProb1)[0,1]\n",
    "print('log loss on training set is: %0.5f' %trainLoss1)"
   ]
  },
  {
   "cell_type": "code",
   "execution_count": 12,
   "metadata": {},
   "outputs": [
    {
     "name": "stdout",
     "output_type": "stream",
     "text": [
      "0.4312707697851449\n",
      "should be\n"
     ]
    },
    {
     "data": {
      "image/png": "[encoded data removed]",
      "text/plain": [
       "<Figure size 432x288 with 1 Axes>"
      ]
     },
     "metadata": {
      "needs_background": "light"
     },
     "output_type": "display_data"
    }
   ],
   "source": [
    "x = np.linspace(0.01, 0.99, 10)\n",
    "# plt.plot(x, -np.log(x))\n",
    "x10 = 10**(-crossVal_performance)**18\n",
    "mean_x10 = np.mean(x10)\n",
    "plt.plot(x10, crossVal_performance, 'bo')\n",
    "plt.plot(mean_x10, np.mean(crossVal_performance), 'ro')\n",
    "\n",
    "print(np.mean(crossVal_performance))\n",
    "print('should be')\n"
   ]
  },
  {
   "cell_type": "code",
   "execution_count": null,
   "metadata": {},
   "outputs": [],
   "source": []
  }
 ],
 "metadata": {
  "kernelspec": {
   "display_name": "Python 2",
   "language": "python",
   "name": "python2"
  },
  "language_info": {
   "codemirror_mode": {
    "name": "ipython",
    "version": 2
   },
   "file_extension": ".py",
   "mimetype": "text/x-python",
   "name": "python",
   "nbconvert_exporter": "python",
   "pygments_lexer": "ipython2",
   "version": "2.7.15"
  }
 },
 "nbformat": 4,
 "nbformat_minor": 2
}
