{
 "cells": [
  {
   "cell_type": "code",
   "execution_count": null,
   "metadata": {},
   "outputs": [],
   "source": []
  },
  {
   "cell_type": "code",
   "execution_count": 1,
   "metadata": {},
   "outputs": [],
   "source": [
    "import pandas as pd \n",
    "import numpy as np \n",
    "from functions import logLoss\n",
    "from matplotlib import pyplot as plt\n",
    "%matplotlib inline\n",
    "\n",
    "from sklearn.model_selection import StratifiedKFold\n",
    "from sklearn.preprocessing import PolynomialFeatures\n",
    "from sklearn.linear_model import LogisticRegression\n",
    "from sklearn.pipeline import Pipeline\n",
    "from sklearn.feature_selection import SelectKBest"
   ]
  },
  {
   "cell_type": "code",
   "execution_count": 9,
   "metadata": {},
   "outputs": [],
   "source": [
    "# load training data\n",
    "X = np.genfromtxt('../train_values_normalized.csv', delimiter=\",\", skip_header=1)\n",
    "X = X[:,1:]\n",
    "y = np.genfromtxt('../train_labels.csv',  delimiter=\",\", skip_header=1)\n",
    "y = y[:,1:]\n",
    "\n",
    "# load test data\n",
    "X_test = np.genfromtxt('../test_values_normalized.csv',  delimiter=\",\", skip_header=1)\n",
    "X_test = X_test[:,1:]"
   ]
  },
  {
   "cell_type": "code",
   "execution_count": 10,
   "metadata": {},
   "outputs": [],
   "source": [
    "# make polynomial features\n",
    "poly = PolynomialFeatures(degree=2)\n",
    "X = poly.fit_transform(X)\n",
    "X_test = poly.fit_transform(X_test)"
   ]
  },
  {
   "cell_type": "code",
   "execution_count": null,
   "metadata": {},
   "outputs": [],
   "source": []
  },
  {
   "cell_type": "code",
   "execution_count": 8,
   "metadata": {},
   "outputs": [
    {
     "name": "stdout",
     "output_type": "stream",
     "text": [
      "[0.65292484 0.58334954 0.54438854 0.5266559  0.52588836 0.52572114\n",
      " 0.52515928 0.51875546 0.51345447 0.5113501  0.510438   0.5045512\n",
      " 0.50446443 0.46647208 0.46485751 0.42255588 0.4113284  0.40513421\n",
      " 0.39884897 0.39596767 0.38370397 0.34562591]\n",
      "0.33811733086935597\n"
     ]
    },
    {
     "data": {
      "image/png": "[encoded data removed]",
      "text/plain": [
       "<Figure size 432x288 with 1 Axes>"
      ]
     },
     "metadata": {
      "needs_background": "light"
     },
     "output_type": "display_data"
    }
   ],
   "source": [
    "# make pipeline\n",
    "kBest = SelectKBest(bestFeatures, k=6)\n",
    "lr = LogisticRegression(penalty='l2', tol=1e-8, solver='liblinear')\n",
    "my_pipeline = Pipeline([('kBest', kBest), ('lr', lr)])\n",
    "\n",
    "# fit model\n",
    "max_feat = 22\n",
    "num_folds = 10\n",
    "cross_score = np.zeros(max_feat)\n",
    "train_score = np.zeros(max_feat)\n",
    "k_fold = StratifiedKFold(num_folds, shuffle=False, random_state=5)\n",
    "\n",
    "for i in range(max_feat):\n",
    "    pipeline_params = my_pipeline.set_params(kBest__k=i+1, lr__C=.5)\n",
    "    j = 0\n",
    "    k_score = np.zeros(num_folds)\n",
    "    for jTrain, jCross in k_fold.split(X, y):\n",
    "        X_train, X_cross = X[jTrain,:], X[jCross,:]\n",
    "        y_train, y_cross = y[jTrain], y[jCross]\n",
    "        model_j = pipeline_params.fit(X_train, np.ravel(y_train))\n",
    "        predictions_j = model_j.predict_proba(X_cross)\n",
    "        k_score[j] = logLoss(y_cross, predictions_j)[0,1]\n",
    "        j += 1\n",
    "    cross_score[i] = np.mean(k_score)\n",
    "    # calculate train loss        \n",
    "    train_fit = pipeline_params.fit(X, np.ravel(y))\n",
    "    train_predict = train_fit.predict_proba(X)\n",
    "    train_score[i] = logLoss(y, train_predict)[0,1]\n",
    "print(train_score)\n",
    "check_fit = LogisticRegression(penalty='l2', tol=1e-8, solver='liblinear').fit(X, np.ravel(y))\n",
    "check_predict = check_fit.predict_proba(X)\n",
    "check_score = logLoss(y, check_predict)[0,1]\n",
    "print(check_score)\n",
    "\n",
    "# plot results:\n",
    "plt.plot(np.arange(1,23), cross_score, 'green', label='logloss cross')\n",
    "plt.plot(np.arange(1,23), train_score, 'red', label='logloss train')\n",
    "plt.xlabel('number of features used')\n",
    "plt.ylabel('logloss')\n",
    "plt.legend(loc='best')\n",
    "plt.grid()"
   ]
  },
  {
   "cell_type": "markdown",
   "metadata": {},
   "source": [
    "This graph does not seem to make any sense at all...\n",
    "Apply filter method for feature selection."
   ]
  },
  {
   "cell_type": "code",
   "execution_count": null,
   "metadata": {},
   "outputs": [],
   "source": []
  },
  {
   "cell_type": "code",
   "execution_count": null,
   "metadata": {},
   "outputs": [],
   "source": []
  },
  {
   "cell_type": "code",
   "execution_count": null,
   "metadata": {},
   "outputs": [],
   "source": []
  },
  {
   "cell_type": "code",
   "execution_count": null,
   "metadata": {},
   "outputs": [],
   "source": []
  },
  {
   "cell_type": "code",
   "execution_count": null,
   "metadata": {},
   "outputs": [],
   "source": []
  },
  {
   "cell_type": "code",
   "execution_count": null,
   "metadata": {},
   "outputs": [],
   "source": []
  },
  {
   "cell_type": "code",
   "execution_count": null,
   "metadata": {},
   "outputs": [],
   "source": []
  },
  {
   "cell_type": "code",
   "execution_count": null,
   "metadata": {},
   "outputs": [],
   "source": []
  },
  {
   "cell_type": "code",
   "execution_count": null,
   "metadata": {},
   "outputs": [],
   "source": []
  },
  {
   "cell_type": "code",
   "execution_count": null,
   "metadata": {},
   "outputs": [],
   "source": []
  },
  {
   "cell_type": "code",
   "execution_count": null,
   "metadata": {},
   "outputs": [],
   "source": []
  },
  {
   "cell_type": "code",
   "execution_count": null,
   "metadata": {},
   "outputs": [],
   "source": []
  }
 ],
 "metadata": {
  "kernelspec": {
   "display_name": "Python 2",
   "language": "python",
   "name": "python2"
  },
  "language_info": {
   "codemirror_mode": {
    "name": "ipython",
    "version": 2
   },
   "file_extension": ".py",
   "mimetype": "text/x-python",
   "name": "python",
   "nbconvert_exporter": "python",
   "pygments_lexer": "ipython2",
   "version": "2.7.15"
  }
 },
 "nbformat": 4,
 "nbformat_minor": 2
}
