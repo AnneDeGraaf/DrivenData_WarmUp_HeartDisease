{
 "cells": [
  {
   "cell_type": "code",
   "execution_count": null,
   "metadata": {},
   "outputs": [],
   "source": []
  },
  {
   "cell_type": "code",
   "execution_count": 1,
   "metadata": {},
   "outputs": [],
   "source": [
    "import pandas as pd \n",
    "import numpy as np \n",
    "from scipy.stats import chi2_contingency\n",
    "from functions import logLoss\n",
    "from matplotlib import pyplot as plt\n",
    "%matplotlib inline\n",
    "\n",
    "from sklearn.model_selection import StratifiedKFold, train_test_split\n",
    "from sklearn.preprocessing import PolynomialFeatures, StandardScaler\n",
    "from sklearn.linear_model import LogisticRegression\n",
    "from sklearn.pipeline import Pipeline\n",
    "from sklearn.feature_selection import SelectKBest"
   ]
  },
  {
   "cell_type": "markdown",
   "metadata": {},
   "source": [
    "## Loading data"
   ]
  },
  {
   "cell_type": "code",
   "execution_count": 2,
   "metadata": {},
   "outputs": [],
   "source": [
    "# load training data\n",
    "X = pd.read_csv('../train_values_normalized.csv', index_col=0)\n",
    "y = pd.read_csv('../train_labels.csv', index_col=0)\n",
    "\n",
    "# load test data\n",
    "X_test = pd.read_csv('../test_values_normalized.csv', index_col=0)"
   ]
  },
  {
   "cell_type": "code",
   "execution_count": 3,
   "metadata": {},
   "outputs": [],
   "source": [
    "# adding polynomial features to the set\n",
    "\n",
    "# only polynomials of the numerical features are included:\n",
    "numeric_cols = ['resting_blood_pressure', 'num_major_vessels', 'fasting_blood_sugar_gt_120_mg_per_dl', \n",
    "                     'serum_cholesterol_mg_per_dl', 'oldpeak_eq_st_depression', 'age', 'max_heart_rate_achieved']\n",
    "\n",
    "# the rest of the columns are categorical data:\n",
    "categoric_data = X.copy()\n",
    "categoric_data.drop(numeric_cols, axis=1, inplace=True)\n",
    "\n",
    "# make 2nd degree poly features from numerical data\n",
    "polynomials = PolynomialFeatures(degree=2, interaction_only=False, include_bias=True)\n",
    "poly_features = polynomials.fit_transform(X[numeric_cols])\n",
    "\n",
    "# normalize data to mean=0 and std=1\n",
    "scaler = StandardScaler(copy=False, with_mean=True, with_std=True).fit(poly_features)\n",
    "poly_features = scaler.transform(poly_features)\n",
    "\n",
    "# make data frame with all data\n",
    "poly_train_df = pd.DataFrame(data=poly_features,\n",
    "                             index=X.index,\n",
    "                             columns=polynomials.get_feature_names(numeric_cols))\n",
    "poly_train_df = poly_train_df.join(categoric_data)"
   ]
  },
  {
   "cell_type": "code",
   "execution_count": 4,
   "metadata": {},
   "outputs": [],
   "source": [
    "# make poly df for test set\n",
    "categoric_test = X_test.copy()\n",
    "categoric_test.drop(numeric_cols, axis=1, inplace=True)\n",
    "poly_test = polynomials.fit_transform(X_test[numeric_cols])\n",
    "poly_test = scaler.transform(poly_test)\n",
    "poly_test_df = pd.DataFrame(data=poly_test,\n",
    "                           index=X_test.index,\n",
    "                           columns=polynomials.get_feature_names(numeric_cols))\n",
    "poly_test_df = poly_test_df.join(categoric_test)"
   ]
  },
  {
   "cell_type": "code",
   "execution_count": null,
   "metadata": {},
   "outputs": [],
   "source": []
  },
  {
   "cell_type": "code",
   "execution_count": 5,
   "metadata": {},
   "outputs": [],
   "source": [
    "# load original data\n",
    "X_raw = pd.read_csv('../train_values.csv', index_col=0)\n",
    "y_raw = pd.read_csv('../train_labels.csv', index_col=0)\n",
    "\n",
    "# split data in train and crossval 70:30\n",
    "X_train, X_test, y_train, y_test = train_test_split(X_raw, \n",
    "                y_raw, test_size=0.3, random_state=7)"
   ]
  },
  {
   "cell_type": "markdown",
   "metadata": {},
   "source": [
    "## Feature selection: categorical features (using Pearson's chi-squared test)"
   ]
  },
  {
   "cell_type": "code",
   "execution_count": 6,
   "metadata": {},
   "outputs": [
    {
     "name": "stdout",
     "output_type": "stream",
     "text": [
      "P is 0.000588\n",
      "H0 rejected, no indepence. Use feature in model.\n",
      "  \n",
      "Contingency table:\n"
     ]
    },
    {
     "data": {
      "text/html": [
       "<div>\n",
       "<style scoped>\n",
       "    .dataframe tbody tr th:only-of-type {\n",
       "        vertical-align: middle;\n",
       "    }\n",
       "\n",
       "    .dataframe tbody tr th {\n",
       "        vertical-align: top;\n",
       "    }\n",
       "\n",
       "    .dataframe thead th {\n",
       "        text-align: right;\n",
       "    }\n",
       "</style>\n",
       "<table border=\"1\" class=\"dataframe\">\n",
       "  <thead>\n",
       "    <tr style=\"text-align: right;\">\n",
       "      <th>sex</th>\n",
       "      <th>0</th>\n",
       "      <th>1</th>\n",
       "    </tr>\n",
       "    <tr>\n",
       "      <th>heart_disease_present</th>\n",
       "      <th></th>\n",
       "      <th></th>\n",
       "    </tr>\n",
       "  </thead>\n",
       "  <tbody>\n",
       "    <tr>\n",
       "      <th>0</th>\n",
       "      <td>33</td>\n",
       "      <td>39</td>\n",
       "    </tr>\n",
       "    <tr>\n",
       "      <th>1</th>\n",
       "      <td>9</td>\n",
       "      <td>45</td>\n",
       "    </tr>\n",
       "  </tbody>\n",
       "</table>\n",
       "</div>"
      ],
      "text/plain": [
       "sex                     0   1\n",
       "heart_disease_present        \n",
       "0                      33  39\n",
       "1                       9  45"
      ]
     },
     "execution_count": 6,
     "metadata": {},
     "output_type": "execute_result"
    }
   ],
   "source": [
    "# 1. sex vs heart disease\n",
    "\n",
    "ct_table1 = pd.crosstab(y_train['heart_disease_present'], X_train['sex'], margins=False)\n",
    "chi2, p, dof, ex = chi2_contingency(ct_table1, correction=False)\n",
    "# print(chi2, p, dof, ex)\n",
    "\n",
    "print( 'P is %f' %p )\n",
    "if p <= 0.05:\n",
    "    print('H0 rejected, no indepence. Use feature in model.')\n",
    "else:\n",
    "    print('H0 not rejected, indepence. Do not use feature in model.')\n",
    "\n",
    "print('  ')\n",
    "print('Contingency table:')\n",
    "ct_table1"
   ]
  },
  {
   "cell_type": "code",
   "execution_count": 7,
   "metadata": {},
   "outputs": [
    {
     "name": "stdout",
     "output_type": "stream",
     "text": [
      "P is 0.000000\n",
      "H0 rejected, no indepence. Use feature in model.\n",
      "  \n",
      "Contingency table:\n"
     ]
    },
    {
     "data": {
      "text/html": [
       "<div>\n",
       "<style scoped>\n",
       "    .dataframe tbody tr th:only-of-type {\n",
       "        vertical-align: middle;\n",
       "    }\n",
       "\n",
       "    .dataframe tbody tr th {\n",
       "        vertical-align: top;\n",
       "    }\n",
       "\n",
       "    .dataframe thead th {\n",
       "        text-align: right;\n",
       "    }\n",
       "</style>\n",
       "<table border=\"1\" class=\"dataframe\">\n",
       "  <thead>\n",
       "    <tr style=\"text-align: right;\">\n",
       "      <th>exercise_induced_angina</th>\n",
       "      <th>0</th>\n",
       "      <th>1</th>\n",
       "    </tr>\n",
       "    <tr>\n",
       "      <th>heart_disease_present</th>\n",
       "      <th></th>\n",
       "      <th></th>\n",
       "    </tr>\n",
       "  </thead>\n",
       "  <tbody>\n",
       "    <tr>\n",
       "      <th>0</th>\n",
       "      <td>63</td>\n",
       "      <td>9</td>\n",
       "    </tr>\n",
       "    <tr>\n",
       "      <th>1</th>\n",
       "      <td>21</td>\n",
       "      <td>33</td>\n",
       "    </tr>\n",
       "  </tbody>\n",
       "</table>\n",
       "</div>"
      ],
      "text/plain": [
       "exercise_induced_angina   0   1\n",
       "heart_disease_present          \n",
       "0                        63   9\n",
       "1                        21  33"
      ]
     },
     "execution_count": 7,
     "metadata": {},
     "output_type": "execute_result"
    }
   ],
   "source": [
    "# 2. exercise induced angina vs heart disease\n",
    "ct_table2 = pd.crosstab(y_train['heart_disease_present'], X_train['exercise_induced_angina'], margins=False)\n",
    "chi2, p, dof, ex = chi2_contingency(ct_table2, correction=False)\n",
    "# print(chi2, p, dof, ex)\n",
    "\n",
    "print( 'P is %f' %p )\n",
    "if p <= 0.05:\n",
    "    print('H0 rejected, no indepence. Use feature in model.')\n",
    "else:\n",
    "    print('H0 not rejected, indepence. Do not use feature in model.')\n",
    "\n",
    "print('  ')\n",
    "print('Contingency table:')\n",
    "ct_table2"
   ]
  },
  {
   "cell_type": "code",
   "execution_count": 8,
   "metadata": {},
   "outputs": [
    {
     "name": "stdout",
     "output_type": "stream",
     "text": [
      "P is 0.000304\n",
      "H0 rejected, no indepence. Use feature in model.\n",
      "  \n",
      "Contingency table:\n"
     ]
    },
    {
     "data": {
      "text/html": [
       "<div>\n",
       "<style scoped>\n",
       "    .dataframe tbody tr th:only-of-type {\n",
       "        vertical-align: middle;\n",
       "    }\n",
       "\n",
       "    .dataframe tbody tr th {\n",
       "        vertical-align: top;\n",
       "    }\n",
       "\n",
       "    .dataframe thead th {\n",
       "        text-align: right;\n",
       "    }\n",
       "</style>\n",
       "<table border=\"1\" class=\"dataframe\">\n",
       "  <thead>\n",
       "    <tr style=\"text-align: right;\">\n",
       "      <th>slope_of_peak_exercise_st_segment</th>\n",
       "      <th>1</th>\n",
       "      <th>2</th>\n",
       "      <th>3</th>\n",
       "    </tr>\n",
       "    <tr>\n",
       "      <th>heart_disease_present</th>\n",
       "      <th></th>\n",
       "      <th></th>\n",
       "      <th></th>\n",
       "    </tr>\n",
       "  </thead>\n",
       "  <tbody>\n",
       "    <tr>\n",
       "      <th>0</th>\n",
       "      <td>46</td>\n",
       "      <td>22</td>\n",
       "      <td>4</td>\n",
       "    </tr>\n",
       "    <tr>\n",
       "      <th>1</th>\n",
       "      <td>15</td>\n",
       "      <td>34</td>\n",
       "      <td>5</td>\n",
       "    </tr>\n",
       "  </tbody>\n",
       "</table>\n",
       "</div>"
      ],
      "text/plain": [
       "slope_of_peak_exercise_st_segment   1   2  3\n",
       "heart_disease_present                       \n",
       "0                                  46  22  4\n",
       "1                                  15  34  5"
      ]
     },
     "execution_count": 8,
     "metadata": {},
     "output_type": "execute_result"
    }
   ],
   "source": [
    "# 3. slope of peak exercise st segment vs heart disease\n",
    "ct_table3 = pd.crosstab(y_train['heart_disease_present'], X_train['slope_of_peak_exercise_st_segment'], margins=False)\n",
    "chi2, p, dof, ex = chi2_contingency(ct_table3, correction=False)\n",
    "# print(chi2, p, dof, ex)\n",
    "\n",
    "print( 'P is %f' %p )\n",
    "if p <= 0.05:\n",
    "    print('H0 rejected, no indepence. Use feature in model.')\n",
    "else:\n",
    "    print('H0 not rejected, indepence. Do not use feature in model.')\n",
    "\n",
    "print('  ')\n",
    "print('Contingency table:')\n",
    "ct_table3"
   ]
  },
  {
   "cell_type": "code",
   "execution_count": 9,
   "metadata": {},
   "outputs": [
    {
     "name": "stdout",
     "output_type": "stream",
     "text": [
      "P is 0.000000\n",
      "H0 rejected, no indepence. Use feature in model.\n",
      "  \n",
      "Contingency table:\n"
     ]
    },
    {
     "data": {
      "text/html": [
       "<div>\n",
       "<style scoped>\n",
       "    .dataframe tbody tr th:only-of-type {\n",
       "        vertical-align: middle;\n",
       "    }\n",
       "\n",
       "    .dataframe tbody tr th {\n",
       "        vertical-align: top;\n",
       "    }\n",
       "\n",
       "    .dataframe thead th {\n",
       "        text-align: right;\n",
       "    }\n",
       "</style>\n",
       "<table border=\"1\" class=\"dataframe\">\n",
       "  <thead>\n",
       "    <tr style=\"text-align: right;\">\n",
       "      <th>thal</th>\n",
       "      <th>fixed_defect</th>\n",
       "      <th>normal</th>\n",
       "      <th>reversible_defect</th>\n",
       "    </tr>\n",
       "    <tr>\n",
       "      <th>heart_disease_present</th>\n",
       "      <th></th>\n",
       "      <th></th>\n",
       "      <th></th>\n",
       "    </tr>\n",
       "  </thead>\n",
       "  <tbody>\n",
       "    <tr>\n",
       "      <th>0</th>\n",
       "      <td>3</td>\n",
       "      <td>55</td>\n",
       "      <td>14</td>\n",
       "    </tr>\n",
       "    <tr>\n",
       "      <th>1</th>\n",
       "      <td>2</td>\n",
       "      <td>13</td>\n",
       "      <td>39</td>\n",
       "    </tr>\n",
       "  </tbody>\n",
       "</table>\n",
       "</div>"
      ],
      "text/plain": [
       "thal                   fixed_defect  normal  reversible_defect\n",
       "heart_disease_present                                         \n",
       "0                                 3      55                 14\n",
       "1                                 2      13                 39"
      ]
     },
     "execution_count": 9,
     "metadata": {},
     "output_type": "execute_result"
    }
   ],
   "source": [
    "# 4. thal vs heart disease\n",
    "ct_table4 = pd.crosstab(y_train['heart_disease_present'], X_train['thal'], margins=False)\n",
    "chi2, p, dof, ex = chi2_contingency(ct_table4, correction=True)\n",
    "# print(chi2, p, dof, ex)\n",
    "\n",
    "print( 'P is %f' %p )\n",
    "if p <= 0.05:\n",
    "    print('H0 rejected, no indepence. Use feature in model.')\n",
    "else:\n",
    "    print('H0 not rejected, indepence. Do not use feature in model.')\n",
    "\n",
    "print('  ')\n",
    "print('Contingency table:')\n",
    "ct_table4"
   ]
  },
  {
   "cell_type": "code",
   "execution_count": 10,
   "metadata": {},
   "outputs": [
    {
     "name": "stdout",
     "output_type": "stream",
     "text": [
      "P is 0.000000\n",
      "H0 rejected, no indepence. Use feature in model.\n",
      "  \n",
      "Contingency table:\n"
     ]
    },
    {
     "data": {
      "text/html": [
       "<div>\n",
       "<style scoped>\n",
       "    .dataframe tbody tr th:only-of-type {\n",
       "        vertical-align: middle;\n",
       "    }\n",
       "\n",
       "    .dataframe tbody tr th {\n",
       "        vertical-align: top;\n",
       "    }\n",
       "\n",
       "    .dataframe thead th {\n",
       "        text-align: right;\n",
       "    }\n",
       "</style>\n",
       "<table border=\"1\" class=\"dataframe\">\n",
       "  <thead>\n",
       "    <tr style=\"text-align: right;\">\n",
       "      <th>chest_pain_type</th>\n",
       "      <th>1</th>\n",
       "      <th>2</th>\n",
       "      <th>3</th>\n",
       "      <th>4</th>\n",
       "    </tr>\n",
       "    <tr>\n",
       "      <th>heart_disease_present</th>\n",
       "      <th></th>\n",
       "      <th></th>\n",
       "      <th></th>\n",
       "      <th></th>\n",
       "    </tr>\n",
       "  </thead>\n",
       "  <tbody>\n",
       "    <tr>\n",
       "      <th>0</th>\n",
       "      <td>6</td>\n",
       "      <td>18</td>\n",
       "      <td>32</td>\n",
       "      <td>16</td>\n",
       "    </tr>\n",
       "    <tr>\n",
       "      <th>1</th>\n",
       "      <td>2</td>\n",
       "      <td>2</td>\n",
       "      <td>8</td>\n",
       "      <td>42</td>\n",
       "    </tr>\n",
       "  </tbody>\n",
       "</table>\n",
       "</div>"
      ],
      "text/plain": [
       "chest_pain_type        1   2   3   4\n",
       "heart_disease_present               \n",
       "0                      6  18  32  16\n",
       "1                      2   2   8  42"
      ]
     },
     "execution_count": 10,
     "metadata": {},
     "output_type": "execute_result"
    }
   ],
   "source": [
    "# 5. chest pain type vs heart disease\n",
    "ct_table5 = pd.crosstab(y_train['heart_disease_present'], X_train['chest_pain_type'], margins=False)\n",
    "chi2, p, dof, ex = chi2_contingency(ct_table5, correction=True)\n",
    "# print(chi2, p, dof, ex)\n",
    "\n",
    "print( 'P is %f' %p )\n",
    "if p <= 0.05:\n",
    "    print('H0 rejected, no indepence. Use feature in model.')\n",
    "else:\n",
    "    print('H0 not rejected, indepence. Do not use feature in model.')\n",
    "\n",
    "print('  ')\n",
    "print('Contingency table:')\n",
    "ct_table5"
   ]
  },
  {
   "cell_type": "code",
   "execution_count": 11,
   "metadata": {},
   "outputs": [
    {
     "name": "stdout",
     "output_type": "stream",
     "text": [
      "P is 0.298733\n",
      "H0 not rejected, indepence. Do not use feature in model.\n",
      "  \n",
      "Contingency table:\n"
     ]
    },
    {
     "data": {
      "text/html": [
       "<div>\n",
       "<style scoped>\n",
       "    .dataframe tbody tr th:only-of-type {\n",
       "        vertical-align: middle;\n",
       "    }\n",
       "\n",
       "    .dataframe tbody tr th {\n",
       "        vertical-align: top;\n",
       "    }\n",
       "\n",
       "    .dataframe thead th {\n",
       "        text-align: right;\n",
       "    }\n",
       "</style>\n",
       "<table border=\"1\" class=\"dataframe\">\n",
       "  <thead>\n",
       "    <tr style=\"text-align: right;\">\n",
       "      <th>resting_ekg_results</th>\n",
       "      <th>0</th>\n",
       "      <th>1</th>\n",
       "      <th>2</th>\n",
       "    </tr>\n",
       "    <tr>\n",
       "      <th>heart_disease_present</th>\n",
       "      <th></th>\n",
       "      <th></th>\n",
       "      <th></th>\n",
       "    </tr>\n",
       "  </thead>\n",
       "  <tbody>\n",
       "    <tr>\n",
       "      <th>0</th>\n",
       "      <td>38</td>\n",
       "      <td>0</td>\n",
       "      <td>34</td>\n",
       "    </tr>\n",
       "    <tr>\n",
       "      <th>1</th>\n",
       "      <td>23</td>\n",
       "      <td>1</td>\n",
       "      <td>30</td>\n",
       "    </tr>\n",
       "  </tbody>\n",
       "</table>\n",
       "</div>"
      ],
      "text/plain": [
       "resting_ekg_results     0  1   2\n",
       "heart_disease_present           \n",
       "0                      38  0  34\n",
       "1                      23  1  30"
      ]
     },
     "execution_count": 11,
     "metadata": {},
     "output_type": "execute_result"
    }
   ],
   "source": [
    "# 6. resting EKG results vs heart disease\n",
    "ct_table6 = pd.crosstab(y_train['heart_disease_present'], X_train['resting_ekg_results'], margins=False)\n",
    "chi2, p, dof, ex = chi2_contingency(ct_table6, correction=True)\n",
    "# print(chi2, p, dof, ex)\n",
    "\n",
    "print( 'P is %f' %p )\n",
    "if p <= 0.05:\n",
    "    print('H0 rejected, no indepence. Use feature in model.')\n",
    "else:\n",
    "    print('H0 not rejected, indepence. Do not use feature in model.')\n",
    "\n",
    "print('  ')\n",
    "print('Contingency table:')\n",
    "ct_table6"
   ]
  },
  {
   "cell_type": "code",
   "execution_count": 12,
   "metadata": {},
   "outputs": [
    {
     "name": "stdout",
     "output_type": "stream",
     "text": [
      "Index([u'1', u'resting_blood_pressure', u'num_major_vessels',\n",
      "       u'fasting_blood_sugar_gt_120_mg_per_dl', u'serum_cholesterol_mg_per_dl',\n",
      "       u'oldpeak_eq_st_depression', u'age', u'max_heart_rate_achieved',\n",
      "       u'resting_blood_pressure^2',\n",
      "       u'resting_blood_pressure num_major_vessels',\n",
      "       u'resting_blood_pressure fasting_blood_sugar_gt_120_mg_per_dl',\n",
      "       u'resting_blood_pressure serum_cholesterol_mg_per_dl',\n",
      "       u'resting_blood_pressure oldpeak_eq_st_depression',\n",
      "       u'resting_blood_pressure age',\n",
      "       u'resting_blood_pressure max_heart_rate_achieved',\n",
      "       u'num_major_vessels^2',\n",
      "       u'num_major_vessels fasting_blood_sugar_gt_120_mg_per_dl',\n",
      "       u'num_major_vessels serum_cholesterol_mg_per_dl',\n",
      "       u'num_major_vessels oldpeak_eq_st_depression', u'num_major_vessels age',\n",
      "       u'num_major_vessels max_heart_rate_achieved',\n",
      "       u'fasting_blood_sugar_gt_120_mg_per_dl^2',\n",
      "       u'fasting_blood_sugar_gt_120_mg_per_dl serum_cholesterol_mg_per_dl',\n",
      "       u'fasting_blood_sugar_gt_120_mg_per_dl oldpeak_eq_st_depression',\n",
      "       u'fasting_blood_sugar_gt_120_mg_per_dl age',\n",
      "       u'fasting_blood_sugar_gt_120_mg_per_dl max_heart_rate_achieved',\n",
      "       u'serum_cholesterol_mg_per_dl^2',\n",
      "       u'serum_cholesterol_mg_per_dl oldpeak_eq_st_depression',\n",
      "       u'serum_cholesterol_mg_per_dl age',\n",
      "       u'serum_cholesterol_mg_per_dl max_heart_rate_achieved',\n",
      "       u'oldpeak_eq_st_depression^2', u'oldpeak_eq_st_depression age',\n",
      "       u'oldpeak_eq_st_depression max_heart_rate_achieved', u'age^2',\n",
      "       u'age max_heart_rate_achieved', u'max_heart_rate_achieved^2', u'sex',\n",
      "       u'exercise_induced_angina', u'slope_1', u'slope_2', u'slope_3',\n",
      "       u'fixed_defect', u'normal', u'reversible_defect', u'chestPain_1',\n",
      "       u'chestPain_2', u'chestPain_3', u'chestPain_4', u'restingEkg_0',\n",
      "       u'restingEkg_1', u'restingEkg_2'],\n",
      "      dtype='object')\n",
      "Index([u'1', u'resting_blood_pressure', u'num_major_vessels',\n",
      "       u'fasting_blood_sugar_gt_120_mg_per_dl', u'serum_cholesterol_mg_per_dl',\n",
      "       u'oldpeak_eq_st_depression', u'age', u'max_heart_rate_achieved',\n",
      "       u'resting_blood_pressure^2',\n",
      "       u'resting_blood_pressure num_major_vessels',\n",
      "       u'resting_blood_pressure fasting_blood_sugar_gt_120_mg_per_dl',\n",
      "       u'resting_blood_pressure serum_cholesterol_mg_per_dl',\n",
      "       u'resting_blood_pressure oldpeak_eq_st_depression',\n",
      "       u'resting_blood_pressure age',\n",
      "       u'resting_blood_pressure max_heart_rate_achieved',\n",
      "       u'num_major_vessels^2',\n",
      "       u'num_major_vessels fasting_blood_sugar_gt_120_mg_per_dl',\n",
      "       u'num_major_vessels serum_cholesterol_mg_per_dl',\n",
      "       u'num_major_vessels oldpeak_eq_st_depression', u'num_major_vessels age',\n",
      "       u'num_major_vessels max_heart_rate_achieved',\n",
      "       u'fasting_blood_sugar_gt_120_mg_per_dl^2',\n",
      "       u'fasting_blood_sugar_gt_120_mg_per_dl serum_cholesterol_mg_per_dl',\n",
      "       u'fasting_blood_sugar_gt_120_mg_per_dl oldpeak_eq_st_depression',\n",
      "       u'fasting_blood_sugar_gt_120_mg_per_dl age',\n",
      "       u'fasting_blood_sugar_gt_120_mg_per_dl max_heart_rate_achieved',\n",
      "       u'serum_cholesterol_mg_per_dl^2',\n",
      "       u'serum_cholesterol_mg_per_dl oldpeak_eq_st_depression',\n",
      "       u'serum_cholesterol_mg_per_dl age',\n",
      "       u'serum_cholesterol_mg_per_dl max_heart_rate_achieved',\n",
      "       u'oldpeak_eq_st_depression^2', u'oldpeak_eq_st_depression age',\n",
      "       u'oldpeak_eq_st_depression max_heart_rate_achieved', u'age^2',\n",
      "       u'age max_heart_rate_achieved', u'max_heart_rate_achieved^2', u'sex',\n",
      "       u'exercise_induced_angina', u'slope_1', u'slope_2', u'slope_3',\n",
      "       u'fixed_defect', u'normal', u'reversible_defect', u'chestPain_1',\n",
      "       u'chestPain_2', u'chestPain_3', u'chestPain_4'],\n",
      "      dtype='object')\n"
     ]
    }
   ],
   "source": [
    "# deleting Resting EKG results from datasets\n",
    "EKG_cols = ['restingEkg_0', 'restingEkg_1', 'restingEkg_2']\n",
    "poly_train_df.drop(EKG_cols, axis=1, inplace=True)\n",
    "poly_test_df.drop(EKG_cols, axis=1, inplace=True)"
   ]
  },
  {
   "cell_type": "markdown",
   "metadata": {},
   "source": [
    "## Feature selection: numerical features (using ... )"
   ]
  },
  {
   "cell_type": "code",
   "execution_count": null,
   "metadata": {},
   "outputs": [],
   "source": []
  },
  {
   "cell_type": "code",
   "execution_count": null,
   "metadata": {},
   "outputs": [],
   "source": []
  },
  {
   "cell_type": "code",
   "execution_count": 13,
   "metadata": {},
   "outputs": [],
   "source": [
    "# load training data\n",
    "X = np.genfromtxt('../train_values_normalized.csv', delimiter=\",\", skip_header=1)\n",
    "X = X[:,1:]\n",
    "y = np.genfromtxt('../train_labels.csv',  delimiter=\",\", skip_header=1)\n",
    "y = y[:,1:]\n",
    "\n",
    "# load test data\n",
    "X_test = np.genfromtxt('../test_values_normalized.csv',  delimiter=\",\", skip_header=1)\n",
    "X_test = X_test[:,1:]"
   ]
  },
  {
   "cell_type": "code",
   "execution_count": null,
   "metadata": {},
   "outputs": [],
   "source": []
  }
 ],
 "metadata": {
  "kernelspec": {
   "display_name": "Python 2",
   "language": "python",
   "name": "python2"
  },
  "language_info": {
   "codemirror_mode": {
    "name": "ipython",
    "version": 2
   },
   "file_extension": ".py",
   "mimetype": "text/x-python",
   "name": "python",
   "nbconvert_exporter": "python",
   "pygments_lexer": "ipython2",
   "version": "2.7.15"
  }
 },
 "nbformat": 4,
 "nbformat_minor": 2
}
