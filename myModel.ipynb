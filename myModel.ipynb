{
 "cells": [
  {
   "cell_type": "markdown",
   "metadata": {},
   "source": [
    "# DrivenData: Heart disease prediction using Logistic Regression\n",
    "\n",
    "###### BY ANNE DE GRAAF\n",
    "\n",
    "This notebook gives an overview of my model to predict heart disease using the Driven Data heart disease data set.\n",
    "\n",
    "Prior to writing this notebook I had already evaluated the data set and applied z-score normalization to the numerical data and one-hot encoding to the categorical data (see also \"data_processing.py\" in this repository).\n",
    "\n",
    "The final score of my logistic regression model was 0.32931, which is currently 54th place out of 962 on the leaderboard.\n"
   ]
  },
  {
   "cell_type": "code",
   "execution_count": 10,
   "metadata": {},
   "outputs": [],
   "source": [
    "# python packages\n",
    "import pandas as pd \n",
    "import numpy as np \n",
    "from matplotlib import pyplot as plt\n",
    "%matplotlib inline\n",
    "\n",
    "# scikit packages\n",
    "from sklearn.model_selection import StratifiedKFold, train_test_split, KFold\n",
    "from sklearn.preprocessing import PolynomialFeatures, StandardScaler\n",
    "from sklearn.linear_model import LogisticRegression, Lasso, SGDClassifier\n",
    "from sklearn.pipeline import Pipeline\n",
    "from sklearn.feature_selection import SelectKBest\n",
    "from sklearn.svm import LinearSVC, SVC, SVR\n",
    "\n",
    "# my own functions\n",
    "from functions import logLoss"
   ]
  },
  {
   "cell_type": "markdown",
   "metadata": {},
   "source": [
    "## Loading data"
   ]
  },
  {
   "cell_type": "code",
   "execution_count": 3,
   "metadata": {},
   "outputs": [],
   "source": [
    "# load (normalized) training data\n",
    "X = pd.read_csv('../train_values_normalized.csv', index_col=0)\n",
    "y = pd.read_csv('../train_labels.csv', index_col=0)\n",
    "\n",
    "# load (normalized) test data\n",
    "X_test = pd.read_csv('../test_values_normalized.csv', index_col=0)"
   ]
  },
  {
   "cell_type": "markdown",
   "metadata": {},
   "source": [
    "## First a simple model using the given data\n",
    "A logistic regression model with L1 regularization. Implementing k-fold cross validation to get an estimate of the performance.\n",
    "\n",
    "### Stratified k-fold cross-validation (with k=10)"
   ]
  },
  {
   "cell_type": "code",
   "execution_count": 5,
   "metadata": {},
   "outputs": [
    {
     "name": "stdout",
     "output_type": "stream",
     "text": [
      "mean cross-validation performance: 0.44292\n"
     ]
    }
   ],
   "source": [
    "str_kFold = StratifiedKFold(n_splits=10, shuffle=True, random_state=1)\n",
    "crossVal_performance = np.zeros(str_kFold.get_n_splits())\n",
    "i=int(0)\n",
    "for iTrain, iCross in str_kFold.split(X, y):\n",
    "    X_train, X_cross = X.iloc[iTrain], X.iloc[iCross]\n",
    "    y_train, y_cross = y.iloc[iTrain], y.iloc[iCross]\n",
    "    model_i = LogisticRegression(penalty='l1', tol=1e-8, solver='liblinear').fit(X_train, np.ravel(y_train))\n",
    "    prob_i = model_i.predict_proba(X_cross)\n",
    "    crossVal_performance[i] = logLoss(y_cross, prob_i)[0,1]\n",
    "    i+=1\n",
    "    \n",
    "print('mean cross-validation performance: %0.5f' %np.mean(crossVal_performance))"
   ]
  },
  {
   "cell_type": "markdown",
   "metadata": {},
   "source": [
    "### Fit model on the entire training set"
   ]
  },
  {
   "cell_type": "code",
   "execution_count": 7,
   "metadata": {},
   "outputs": [
    {
     "name": "stdout",
     "output_type": "stream",
     "text": [
      "log loss on training set is: 0.33812\n"
     ]
    }
   ],
   "source": [
    "# apply logistic regression on entire training set\n",
    "logResModel = LogisticRegression(penalty='l2', tol=1e-8, solver='liblinear').fit(X, \n",
    "                                                np.ravel(y))\n",
    "\n",
    "trainProb = logResModel.predict_proba(X)\n",
    "trainLoss = logLoss(y, trainProb)[0,1]\n",
    "print('log loss on training set is: %0.5f' %trainLoss)"
   ]
  },
  {
   "cell_type": "markdown",
   "metadata": {},
   "source": [
    "Score on the train set is a lot better than on cross val set, as expected of course. I'm curious to see the performance on the test set. So let's make the predictions and upload the results to DrivenData and find out.\n",
    "\n",
    "### Evaluate performance on the test set"
   ]
  },
  {
   "cell_type": "code",
   "execution_count": 9,
   "metadata": {},
   "outputs": [],
   "source": [
    "# loading test data\n",
    "prob_test = logResModel.predict_proba(X_test)[:,1]\n",
    "\n",
    "# saving test results\n",
    "d = {'heart_disease_present': prob_test}\n",
    "submission_df = pd.DataFrame(data=d, index=X_test.index)\n",
    "submission_df.to_csv('../logResModel_results.csv')"
   ]
  },
  {
   "cell_type": "markdown",
   "metadata": {},
   "source": [
    "##### Test set performance: log loss of 0.32931 (54th place out of 962 on the leaderboard on January 3, 2019.)"
   ]
  },
  {
   "cell_type": "markdown",
   "metadata": {},
   "source": [
    "So how can we improve our performance from hereon?\n",
    "The performace of our model is measured by the log loss function. This function penalizes lack of confidence; in other words: if we output more extreme probabilities for our correct predictions, our score might get better.\n",
    "\n",
    "Below I made an SVM model for the same input data, and plotted the results together with the results of the logistic regression.\n",
    "\n",
    "### SVM with linear kernel"
   ]
  },
  {
   "cell_type": "code",
   "execution_count": 12,
   "metadata": {},
   "outputs": [
    {
     "name": "stdout",
     "output_type": "stream",
     "text": [
      "SVM mean cross-validation performance: 1.15213\n",
      "SVM performance on train set is: 0.88353\n"
     ]
    },
    {
     "data": {
      "image/png": "[encoded data removed]",
      "text/plain": [
       "<Figure size 432x288 with 1 Axes>"
      ]
     },
     "metadata": {
      "needs_background": "light"
     },
     "output_type": "display_data"
    }
   ],
   "source": [
    "# model parameters\n",
    "SVM1 = LinearSVC(dual=False, C=1)\n",
    "\n",
    "# determine performance on crossval set\n",
    "SVM_kFold = StratifiedKFold(n_splits=10, shuffle=True, random_state=1)\n",
    "crossVal_performance = np.zeros(SVM_kFold.get_n_splits())\n",
    "i=int(0)\n",
    "for iTrain, iCross in SVM_kFold.split(X, y):\n",
    "    X_train, X_cross = X.iloc[iTrain], X.iloc[iCross]\n",
    "    y_train, y_cross = y.iloc[iTrain], y.iloc[iCross]\n",
    "    SVM_model_i = SVM1.fit(X_train, np.ravel(y_train))\n",
    "    assign_class = SVM_model_i.predict(X_cross)\n",
    "    class_prob = np.transpose([[0.999 if x==1 else 0.001 for x in assign_class]])  # we can't take log(0)\n",
    "    crossVal_performance[i] = logLoss(y_cross, class_prob)\n",
    "    i+=1\n",
    "print('SVM mean cross-validation performance: %0.5f' %np.mean(crossVal_performance))\n",
    "\n",
    "# fit on all train data and give performance on train set\n",
    "svmModel1 = SVM1.fit(X, np.ravel(y))\n",
    "assign_class = svmModel1.predict(X)\n",
    "class_prob = np.transpose([[0.999 if x==1 else 0.001 for x in assign_class]])\n",
    "print('SVM performance on train set is: %0.5f' %logLoss(y, class_prob))\n",
    "\n",
    "a, b = zip(*sorted(zip(trainProb[:,1], class_prob)))\n",
    "\n",
    "plt.plot(a, 'blue', label='logRegression')\n",
    "plt.plot(b, 'green', label='SVM linear kernel')\n",
    "plt.ylabel('output (P(x=1))')\n",
    "plt.xlabel('train set samples sorted by logRegression output')\n",
    "plt.title('Comparison of logRegression and SVM output')\n",
    "plt.legend(loc='best')\n",
    "plt.grid(b=1)"
   ]
  },
  {
   "cell_type": "markdown",
   "metadata": {},
   "source": [
    "I think it's great to see in this graph how the logistic regression compares to SVM. Both algorithms are quite similar in their predictions, but the classification margin of the SVM is really made visible: samples that output low probabilities in logistic regression (say, below 45%) output 0 in the SVM. Samples that output hight probabilities in LR (say, above 65%) output 1 in the SVM. Samples that are in between (so more or less 50:50) can output a 0 or a 1 in SVM.\n",
    "\n",
    "Even though the graph is great for demonstration, the SVM unfortunately gave a really bad performance because it is not accurate enough.\n",
    "\n",
    "So I've made my first, crude model and now I want to improve it. First let's add some polynomial features, and then try to make an optimal selection out of those features. And use that in a logistic regression model.\n",
    "\n",
    "## Polynomial features"
   ]
  },
  {
   "cell_type": "code",
   "execution_count": 13,
   "metadata": {},
   "outputs": [],
   "source": [
    "# only polynomials of the numerical features are included:\n",
    "numeric_cols = ['resting_blood_pressure', 'num_major_vessels', 'fasting_blood_sugar_gt_120_mg_per_dl', \n",
    "                     'serum_cholesterol_mg_per_dl', 'oldpeak_eq_st_depression', 'age', 'max_heart_rate_achieved']\n",
    "\n",
    "# the rest of the columns are categorical data:\n",
    "categoric_data = X.copy()\n",
    "categoric_data.drop(numeric_cols, axis=1, inplace=True)\n",
    "\n",
    "# make 2nd degree poly features from numerical data\n",
    "polynomials = PolynomialFeatures(degree=2, interaction_only=False, include_bias=True)\n",
    "poly_features = polynomials.fit_transform(X[numeric_cols])\n",
    "\n",
    "# normalize data to mean=0 and std=1\n",
    "scaler = StandardScaler(copy=False, with_mean=True, with_std=True).fit(poly_features)\n",
    "poly_features = scaler.transform(poly_features)\n",
    "# note: the intercept is here normalized to zero. We correct this further below.\n",
    "\n",
    "# make data frame with all data\n",
    "poly_train_df = pd.DataFrame(data=poly_features,\n",
    "                             index=X.index,\n",
    "                             columns=polynomials.get_feature_names(numeric_cols))\n",
    "poly_train_df = poly_train_df.join(categoric_data)\n",
    "poly_train_df['1'] = 1.0 # intercept was changed to zero by normalization. We have to correct that. \n",
    "\n",
    "# make poly df for test set\n",
    "categoric_test = X_test.copy()\n",
    "categoric_test.drop(numeric_cols, axis=1, inplace=True)\n",
    "poly_test = polynomials.fit_transform(X_test[numeric_cols])\n",
    "poly_test = scaler.transform(poly_test)\n",
    "poly_test_df = pd.DataFrame(data=poly_test,\n",
    "                           index=X_test.index,\n",
    "                           columns=polynomials.get_feature_names(numeric_cols))\n",
    "poly_test_df = poly_test_df.join(categoric_test)"
   ]
  },
  {
   "cell_type": "markdown",
   "metadata": {},
   "source": [
    "## Feature selection using the Lasso\n",
    "First I'm going to try Lasso regularization, which can act as a feature selector to some extend. We'll see how well it performs on our data set. To find the optimal model, we have to tune the hyperparameter C, which is visualized in the graph below."
   ]
  },
  {
   "cell_type": "code",
   "execution_count": 14,
   "metadata": {},
   "outputs": [
    {
     "name": "stderr",
     "output_type": "stream",
     "text": [
      "functions.py:12: RuntimeWarning: divide by zero encountered in log\n",
      "  J = -1.0/n * ( np.dot( np.transpose(y), np.log(predictions) ) +\n",
      "functions.py:13: RuntimeWarning: divide by zero encountered in log\n",
      "  np.dot( np.transpose(ones-y),np.log(ones-predictions) ))\n"
     ]
    },
    {
     "data": {
      "image/png": "[encoded data removed]",
      "text/plain": [
       "<Figure size 432x288 with 1 Axes>"
      ]
     },
     "metadata": {
      "needs_background": "light"
     },
     "output_type": "display_data"
    }
   ],
   "source": [
    "X = poly_train_df\n",
    "C_list = np.arange(.1, 5.0, .2)\n",
    "crossVal_loss = np.zeros(len(C_list))\n",
    "\n",
    "for j in range(len(C_list)):\n",
    "    str_kFold = StratifiedKFold(n_splits=10, shuffle=False)\n",
    "    crossVal_performance = np.zeros(str_kFold.get_n_splits())\n",
    "    logRes_params = LogisticRegression(penalty='l1', C=C_list[j], \n",
    "                    fit_intercept=False, tol=1e-8, solver='liblinear', max_iter=300)\n",
    "    i=int(0)\n",
    "    for iTrain, iCross in str_kFold.split(X, y):\n",
    "        X_train, X_cross = X.iloc[iTrain], X.iloc[iCross]\n",
    "        y_train, y_cross = y.iloc[iTrain], y.iloc[iCross]\n",
    "        model_i = logRes_params.fit(X_train, np.ravel(y_train))\n",
    "        prob_i = model_i.predict_proba(X_cross)\n",
    "        crossVal_performance[i] = logLoss(y_cross, prob_i)[0,1]\n",
    "        i+=1\n",
    "    crossVal_loss[j] = np.mean(crossVal_performance)\n",
    "\n",
    "plt.plot(C_list, crossVal_loss)\n",
    "plt.xlabel('C')\n",
    "plt.ylabel('Crossvalidation performance')\n",
    "plt.title('What C to choose?');"
   ]
  },
  {
   "cell_type": "markdown",
   "metadata": {},
   "source": [
    "I iteratively determined the optimal C to be about 0.30:"
   ]
  },
  {
   "cell_type": "code",
   "execution_count": 19,
   "metadata": {},
   "outputs": [
    {
     "name": "stdout",
     "output_type": "stream",
     "text": [
      "crossval performance: 0.44396\n",
      "train performance: 0.36048\n"
     ]
    }
   ],
   "source": [
    "# the model with C=0.20:\n",
    "logRes_params = LogisticRegression(penalty='l1', C=0.30, \n",
    "        fit_intercept=False, tol=1e-8, solver='liblinear', max_iter=300)\n",
    "\n",
    "# performance on crossval set:\n",
    "str_kFold = StratifiedKFold(n_splits=10, shuffle=False)\n",
    "crossVal_performance = np.zeros(str_kFold.get_n_splits())\n",
    "i=int(0)\n",
    "for iTrain, iCross in str_kFold.split(X, y):\n",
    "    X_train, X_cross = X.iloc[iTrain], X.iloc[iCross]\n",
    "    y_train, y_cross = y.iloc[iTrain], y.iloc[iCross]\n",
    "    model_i = logRes_params.fit(X_train, np.ravel(y_train))\n",
    "    prob_i = model_i.predict_proba(X_cross)\n",
    "    crossVal_performance[i] = logLoss(y_cross, prob_i)[0,1]\n",
    "    i+=1\n",
    "print('crossval performance: %0.5f' %np.mean(crossVal_performance))\n",
    "\n",
    "# performance on entire train set:\n",
    "logRes_fit = logRes_params.fit(X, np.ravel(y))\n",
    "train_prob = logRes_fit.predict_proba(X)\n",
    "print('train performance: %0.5f' %logLoss(y, train_prob)[0,1])"
   ]
  },
  {
   "cell_type": "markdown",
   "metadata": {},
   "source": [
    "This crossval performance is not my best-yet. Let's see the effects of elastic net.\n",
    "\n",
    "## Elastic Net\n",
    "I'm cutting straight to the optimal hyperparams I've found, which gave a crossval performance of 0.43937 (the lowest so far)."
   ]
  },
  {
   "cell_type": "code",
   "execution_count": 21,
   "metadata": {},
   "outputs": [
    {
     "name": "stdout",
     "output_type": "stream",
     "text": [
      "train performance: 0.35817\n"
     ]
    }
   ],
   "source": [
    "# the model with optimal alpha and ratio:\n",
    "a = 0.025\n",
    "r = 0.55\n",
    "\n",
    "elNet_params = SGDClassifier(loss='log', penalty='elasticnet', \n",
    "            alpha=a, l1_ratio=r, fit_intercept=False, \n",
    "            max_iter=300)\n",
    "\n",
    "# performance on entire train set:\n",
    "elNet_fit = elNet_params.fit(X, np.ravel(y))\n",
    "train_prob = elNet_fit.predict_proba(X)\n",
    "print('train performance: %0.5f' %logLoss(y, train_prob)[0,1])\n",
    "\n",
    "# predicting the test set:\n",
    "test_probab = elNet_fit.predict_proba(poly_test_df)[:,1]\n",
    "\n",
    "# saving test results\n",
    "d = {'heart_disease_present': test_probab}\n",
    "submission_df = pd.DataFrame(data=d, index=poly_test_df.index)\n",
    "submission_df.to_csv('../elasticNet_a025r55_results.csv')"
   ]
  },
  {
   "cell_type": "markdown",
   "metadata": {},
   "source": [
    "This gives a test performance of 0.3719, which is actually worse than my first model. So somehow the crossval performance is not a good prediction of test performance. This can have a number of reasons but I have to find out why exactly this happens...\n",
    "\n",
    "## Forward Stepwise feature selection (still under construction)"
   ]
  },
  {
   "cell_type": "code",
   "execution_count": null,
   "metadata": {},
   "outputs": [],
   "source": [
    "features = poly_train_df.copy()\n",
    "selection = pd.DataFrame(data=features['1'], \n",
    "                         index=features.index)\n",
    "features.drop('1', axis=1, inplace=True)\n",
    "print(len(selection.columns))\n",
    "\n",
    "while len(selection.columns < 40):\n",
    "    bestPerformance = 1.0\n",
    "    for col in features.columns:\n",
    "        # selection[col] = features[col]\n",
    "        # fit logres model and give crossval performance\n",
    "        # if performance < bestPerformance:\n",
    "        #    bestPerformance = performance\n",
    "        #    features.drop(col, axis=1, inplace=True)\n",
    "        # else:\n",
    "        #    selection.drop(col, axis=1, inplace=True)    \n",
    "        \n",
    "        \n",
    "        "
   ]
  }
 ],
 "metadata": {
  "kernelspec": {
   "display_name": "Python 2",
   "language": "python",
   "name": "python2"
  },
  "language_info": {
   "codemirror_mode": {
    "name": "ipython",
    "version": 2
   },
   "file_extension": ".py",
   "mimetype": "text/x-python",
   "name": "python",
   "nbconvert_exporter": "python",
   "pygments_lexer": "ipython2",
   "version": "2.7.15"
  }
 },
 "nbformat": 4,
 "nbformat_minor": 2
}
