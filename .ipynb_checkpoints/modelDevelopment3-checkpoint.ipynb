{
 "cells": [
  {
   "cell_type": "markdown",
   "metadata": {},
   "source": [
    "# DrivenData: Heart disease prediction using Logistic Regression and SVM\n",
    "\n",
    "###### BY ANNE DE GRAAF\n",
    "\n",
    "This notebook is meant to show my train of thoughts during the development of prediction model for the heart disease warm-up exercise on DrivenData.org. \n",
    "\n",
    "[key words: ...]"
   ]
  },
  {
   "cell_type": "code",
   "execution_count": 43,
   "metadata": {},
   "outputs": [],
   "source": [
    "import pandas as pd \n",
    "import numpy as np \n",
    "from scipy.stats import chi2_contingency\n",
    "from functions import logLoss\n",
    "from matplotlib import pyplot as plt\n",
    "%matplotlib inline\n",
    "\n",
    "from sklearn.model_selection import StratifiedKFold, train_test_split\n",
    "from sklearn.preprocessing import PolynomialFeatures, StandardScaler\n",
    "from sklearn.linear_model import LogisticRegression, Lasso, SGDClassifier\n",
    "from sklearn.pipeline import Pipeline\n",
    "from sklearn.feature_selection import SelectKBest"
   ]
  },
  {
   "cell_type": "markdown",
   "metadata": {},
   "source": [
    "## Loading data"
   ]
  },
  {
   "cell_type": "code",
   "execution_count": 2,
   "metadata": {},
   "outputs": [],
   "source": [
    "# load (normalized) training data\n",
    "X = pd.read_csv('../train_values_normalized.csv', index_col=0)\n",
    "y = pd.read_csv('../train_labels.csv', index_col=0)\n",
    "\n",
    "# load (normalized) test data\n",
    "X_test = pd.read_csv('../test_values_normalized.csv', index_col=0)"
   ]
  },
  {
   "cell_type": "code",
   "execution_count": 3,
   "metadata": {},
   "outputs": [],
   "source": [
    "# adding polynomial features to the set\n",
    "\n",
    "# only polynomials of the numerical features are included:\n",
    "numeric_cols = ['resting_blood_pressure', 'num_major_vessels', 'fasting_blood_sugar_gt_120_mg_per_dl', \n",
    "                     'serum_cholesterol_mg_per_dl', 'oldpeak_eq_st_depression', 'age', 'max_heart_rate_achieved']\n",
    "\n",
    "# the rest of the columns are categorical data:\n",
    "categoric_data = X.copy()\n",
    "categoric_data.drop(numeric_cols, axis=1, inplace=True)\n",
    "\n",
    "# make 2nd degree poly features from numerical data\n",
    "polynomials = PolynomialFeatures(degree=2, interaction_only=False, include_bias=True)\n",
    "poly_features = polynomials.fit_transform(X[numeric_cols])\n",
    "\n",
    "# normalize data to mean=0 and std=1\n",
    "scaler = StandardScaler(copy=False, with_mean=True, with_std=True).fit(poly_features)\n",
    "poly_features = scaler.transform(poly_features)\n",
    "\n",
    "# make data frame with all data\n",
    "poly_train_df = pd.DataFrame(data=poly_features,\n",
    "                             index=X.index,\n",
    "                             columns=polynomials.get_feature_names(numeric_cols))\n",
    "poly_train_df = poly_train_df.join(categoric_data)"
   ]
  },
  {
   "cell_type": "code",
   "execution_count": 4,
   "metadata": {},
   "outputs": [],
   "source": [
    "# make poly df for test set\n",
    "categoric_test = X_test.copy()\n",
    "categoric_test.drop(numeric_cols, axis=1, inplace=True)\n",
    "poly_test = polynomials.fit_transform(X_test[numeric_cols])\n",
    "poly_test = scaler.transform(poly_test)\n",
    "poly_test_df = pd.DataFrame(data=poly_test,\n",
    "                           index=X_test.index,\n",
    "                           columns=polynomials.get_feature_names(numeric_cols))\n",
    "poly_test_df = poly_test_df.join(categoric_test)"
   ]
  },
  {
   "cell_type": "code",
   "execution_count": null,
   "metadata": {},
   "outputs": [],
   "source": []
  },
  {
   "cell_type": "code",
   "execution_count": 5,
   "metadata": {},
   "outputs": [],
   "source": [
    "# load original data\n",
    "X_raw = pd.read_csv('../train_values.csv', index_col=0)\n",
    "y_raw = pd.read_csv('../train_labels.csv', index_col=0)\n",
    "\n",
    "# split data in train and crossval 70:30\n",
    "X_train, X_test, y_train, y_test = train_test_split(X_raw, \n",
    "                y_raw, test_size=0.3, random_state=7)"
   ]
  },
  {
   "cell_type": "markdown",
   "metadata": {},
   "source": [
    "## Feature selection: categorical features (using Pearson's chi-squared test)"
   ]
  },
  {
   "cell_type": "code",
   "execution_count": 6,
   "metadata": {},
   "outputs": [
    {
     "name": "stdout",
     "output_type": "stream",
     "text": [
      "P is 0.000588\n",
      "H0 rejected, no indepence. Use feature in model.\n",
      "  \n",
      "Contingency table:\n"
     ]
    },
    {
     "data": {
      "text/html": [
       "<div>\n",
       "<style scoped>\n",
       "    .dataframe tbody tr th:only-of-type {\n",
       "        vertical-align: middle;\n",
       "    }\n",
       "\n",
       "    .dataframe tbody tr th {\n",
       "        vertical-align: top;\n",
       "    }\n",
       "\n",
       "    .dataframe thead th {\n",
       "        text-align: right;\n",
       "    }\n",
       "</style>\n",
       "<table border=\"1\" class=\"dataframe\">\n",
       "  <thead>\n",
       "    <tr style=\"text-align: right;\">\n",
       "      <th>sex</th>\n",
       "      <th>0</th>\n",
       "      <th>1</th>\n",
       "    </tr>\n",
       "    <tr>\n",
       "      <th>heart_disease_present</th>\n",
       "      <th></th>\n",
       "      <th></th>\n",
       "    </tr>\n",
       "  </thead>\n",
       "  <tbody>\n",
       "    <tr>\n",
       "      <th>0</th>\n",
       "      <td>33</td>\n",
       "      <td>39</td>\n",
       "    </tr>\n",
       "    <tr>\n",
       "      <th>1</th>\n",
       "      <td>9</td>\n",
       "      <td>45</td>\n",
       "    </tr>\n",
       "  </tbody>\n",
       "</table>\n",
       "</div>"
      ],
      "text/plain": [
       "sex                     0   1\n",
       "heart_disease_present        \n",
       "0                      33  39\n",
       "1                       9  45"
      ]
     },
     "execution_count": 6,
     "metadata": {},
     "output_type": "execute_result"
    }
   ],
   "source": [
    "# 1. sex vs heart disease\n",
    "\n",
    "ct_table1 = pd.crosstab(y_train['heart_disease_present'], X_train['sex'], margins=False)\n",
    "chi2, p, dof, ex = chi2_contingency(ct_table1, correction=False)\n",
    "# print(chi2, p, dof, ex)\n",
    "\n",
    "print( 'P is %f' %p )\n",
    "if p <= 0.05:\n",
    "    print('H0 rejected, no indepence. Use feature in model.')\n",
    "else:\n",
    "    print('H0 not rejected, indepence. Do not use feature in model.')\n",
    "\n",
    "print('  ')\n",
    "print('Contingency table:')\n",
    "ct_table1"
   ]
  },
  {
   "cell_type": "code",
   "execution_count": 7,
   "metadata": {},
   "outputs": [
    {
     "name": "stdout",
     "output_type": "stream",
     "text": [
      "P is 0.000000\n",
      "H0 rejected, no indepence. Use feature in model.\n",
      "  \n",
      "Contingency table:\n"
     ]
    },
    {
     "data": {
      "text/html": [
       "<div>\n",
       "<style scoped>\n",
       "    .dataframe tbody tr th:only-of-type {\n",
       "        vertical-align: middle;\n",
       "    }\n",
       "\n",
       "    .dataframe tbody tr th {\n",
       "        vertical-align: top;\n",
       "    }\n",
       "\n",
       "    .dataframe thead th {\n",
       "        text-align: right;\n",
       "    }\n",
       "</style>\n",
       "<table border=\"1\" class=\"dataframe\">\n",
       "  <thead>\n",
       "    <tr style=\"text-align: right;\">\n",
       "      <th>exercise_induced_angina</th>\n",
       "      <th>0</th>\n",
       "      <th>1</th>\n",
       "    </tr>\n",
       "    <tr>\n",
       "      <th>heart_disease_present</th>\n",
       "      <th></th>\n",
       "      <th></th>\n",
       "    </tr>\n",
       "  </thead>\n",
       "  <tbody>\n",
       "    <tr>\n",
       "      <th>0</th>\n",
       "      <td>63</td>\n",
       "      <td>9</td>\n",
       "    </tr>\n",
       "    <tr>\n",
       "      <th>1</th>\n",
       "      <td>21</td>\n",
       "      <td>33</td>\n",
       "    </tr>\n",
       "  </tbody>\n",
       "</table>\n",
       "</div>"
      ],
      "text/plain": [
       "exercise_induced_angina   0   1\n",
       "heart_disease_present          \n",
       "0                        63   9\n",
       "1                        21  33"
      ]
     },
     "execution_count": 7,
     "metadata": {},
     "output_type": "execute_result"
    }
   ],
   "source": [
    "# 2. exercise induced angina vs heart disease\n",
    "ct_table2 = pd.crosstab(y_train['heart_disease_present'], X_train['exercise_induced_angina'], margins=False)\n",
    "chi2, p, dof, ex = chi2_contingency(ct_table2, correction=False)\n",
    "# print(chi2, p, dof, ex)\n",
    "\n",
    "print( 'P is %f' %p )\n",
    "if p <= 0.05:\n",
    "    print('H0 rejected, no indepence. Use feature in model.')\n",
    "else:\n",
    "    print('H0 not rejected, indepence. Do not use feature in model.')\n",
    "\n",
    "print('  ')\n",
    "print('Contingency table:')\n",
    "ct_table2"
   ]
  },
  {
   "cell_type": "code",
   "execution_count": 8,
   "metadata": {},
   "outputs": [
    {
     "name": "stdout",
     "output_type": "stream",
     "text": [
      "P is 0.000304\n",
      "H0 rejected, no indepence. Use feature in model.\n",
      "  \n",
      "Contingency table:\n"
     ]
    },
    {
     "data": {
      "text/html": [
       "<div>\n",
       "<style scoped>\n",
       "    .dataframe tbody tr th:only-of-type {\n",
       "        vertical-align: middle;\n",
       "    }\n",
       "\n",
       "    .dataframe tbody tr th {\n",
       "        vertical-align: top;\n",
       "    }\n",
       "\n",
       "    .dataframe thead th {\n",
       "        text-align: right;\n",
       "    }\n",
       "</style>\n",
       "<table border=\"1\" class=\"dataframe\">\n",
       "  <thead>\n",
       "    <tr style=\"text-align: right;\">\n",
       "      <th>slope_of_peak_exercise_st_segment</th>\n",
       "      <th>1</th>\n",
       "      <th>2</th>\n",
       "      <th>3</th>\n",
       "    </tr>\n",
       "    <tr>\n",
       "      <th>heart_disease_present</th>\n",
       "      <th></th>\n",
       "      <th></th>\n",
       "      <th></th>\n",
       "    </tr>\n",
       "  </thead>\n",
       "  <tbody>\n",
       "    <tr>\n",
       "      <th>0</th>\n",
       "      <td>46</td>\n",
       "      <td>22</td>\n",
       "      <td>4</td>\n",
       "    </tr>\n",
       "    <tr>\n",
       "      <th>1</th>\n",
       "      <td>15</td>\n",
       "      <td>34</td>\n",
       "      <td>5</td>\n",
       "    </tr>\n",
       "  </tbody>\n",
       "</table>\n",
       "</div>"
      ],
      "text/plain": [
       "slope_of_peak_exercise_st_segment   1   2  3\n",
       "heart_disease_present                       \n",
       "0                                  46  22  4\n",
       "1                                  15  34  5"
      ]
     },
     "execution_count": 8,
     "metadata": {},
     "output_type": "execute_result"
    }
   ],
   "source": [
    "# 3. slope of peak exercise st segment vs heart disease\n",
    "ct_table3 = pd.crosstab(y_train['heart_disease_present'], X_train['slope_of_peak_exercise_st_segment'], margins=False)\n",
    "chi2, p, dof, ex = chi2_contingency(ct_table3, correction=False)\n",
    "# print(chi2, p, dof, ex)\n",
    "\n",
    "print( 'P is %f' %p )\n",
    "if p <= 0.05:\n",
    "    print('H0 rejected, no indepence. Use feature in model.')\n",
    "else:\n",
    "    print('H0 not rejected, indepence. Do not use feature in model.')\n",
    "\n",
    "print('  ')\n",
    "print('Contingency table:')\n",
    "ct_table3"
   ]
  },
  {
   "cell_type": "code",
   "execution_count": 9,
   "metadata": {},
   "outputs": [
    {
     "name": "stdout",
     "output_type": "stream",
     "text": [
      "P is 0.000000\n",
      "H0 rejected, no indepence. Use feature in model.\n",
      "  \n",
      "Contingency table:\n"
     ]
    },
    {
     "data": {
      "text/html": [
       "<div>\n",
       "<style scoped>\n",
       "    .dataframe tbody tr th:only-of-type {\n",
       "        vertical-align: middle;\n",
       "    }\n",
       "\n",
       "    .dataframe tbody tr th {\n",
       "        vertical-align: top;\n",
       "    }\n",
       "\n",
       "    .dataframe thead th {\n",
       "        text-align: right;\n",
       "    }\n",
       "</style>\n",
       "<table border=\"1\" class=\"dataframe\">\n",
       "  <thead>\n",
       "    <tr style=\"text-align: right;\">\n",
       "      <th>thal</th>\n",
       "      <th>fixed_defect</th>\n",
       "      <th>normal</th>\n",
       "      <th>reversible_defect</th>\n",
       "    </tr>\n",
       "    <tr>\n",
       "      <th>heart_disease_present</th>\n",
       "      <th></th>\n",
       "      <th></th>\n",
       "      <th></th>\n",
       "    </tr>\n",
       "  </thead>\n",
       "  <tbody>\n",
       "    <tr>\n",
       "      <th>0</th>\n",
       "      <td>3</td>\n",
       "      <td>55</td>\n",
       "      <td>14</td>\n",
       "    </tr>\n",
       "    <tr>\n",
       "      <th>1</th>\n",
       "      <td>2</td>\n",
       "      <td>13</td>\n",
       "      <td>39</td>\n",
       "    </tr>\n",
       "  </tbody>\n",
       "</table>\n",
       "</div>"
      ],
      "text/plain": [
       "thal                   fixed_defect  normal  reversible_defect\n",
       "heart_disease_present                                         \n",
       "0                                 3      55                 14\n",
       "1                                 2      13                 39"
      ]
     },
     "execution_count": 9,
     "metadata": {},
     "output_type": "execute_result"
    }
   ],
   "source": [
    "# 4. thal vs heart disease\n",
    "ct_table4 = pd.crosstab(y_train['heart_disease_present'], X_train['thal'], margins=False)\n",
    "chi2, p, dof, ex = chi2_contingency(ct_table4, correction=True)\n",
    "# print(chi2, p, dof, ex)\n",
    "\n",
    "print( 'P is %f' %p )\n",
    "if p <= 0.05:\n",
    "    print('H0 rejected, no indepence. Use feature in model.')\n",
    "else:\n",
    "    print('H0 not rejected, indepence. Do not use feature in model.')\n",
    "\n",
    "print('  ')\n",
    "print('Contingency table:')\n",
    "ct_table4"
   ]
  },
  {
   "cell_type": "code",
   "execution_count": 10,
   "metadata": {},
   "outputs": [
    {
     "name": "stdout",
     "output_type": "stream",
     "text": [
      "P is 0.000000\n",
      "H0 rejected, no indepence. Use feature in model.\n",
      "  \n",
      "Contingency table:\n"
     ]
    },
    {
     "data": {
      "text/html": [
       "<div>\n",
       "<style scoped>\n",
       "    .dataframe tbody tr th:only-of-type {\n",
       "        vertical-align: middle;\n",
       "    }\n",
       "\n",
       "    .dataframe tbody tr th {\n",
       "        vertical-align: top;\n",
       "    }\n",
       "\n",
       "    .dataframe thead th {\n",
       "        text-align: right;\n",
       "    }\n",
       "</style>\n",
       "<table border=\"1\" class=\"dataframe\">\n",
       "  <thead>\n",
       "    <tr style=\"text-align: right;\">\n",
       "      <th>chest_pain_type</th>\n",
       "      <th>1</th>\n",
       "      <th>2</th>\n",
       "      <th>3</th>\n",
       "      <th>4</th>\n",
       "    </tr>\n",
       "    <tr>\n",
       "      <th>heart_disease_present</th>\n",
       "      <th></th>\n",
       "      <th></th>\n",
       "      <th></th>\n",
       "      <th></th>\n",
       "    </tr>\n",
       "  </thead>\n",
       "  <tbody>\n",
       "    <tr>\n",
       "      <th>0</th>\n",
       "      <td>6</td>\n",
       "      <td>18</td>\n",
       "      <td>32</td>\n",
       "      <td>16</td>\n",
       "    </tr>\n",
       "    <tr>\n",
       "      <th>1</th>\n",
       "      <td>2</td>\n",
       "      <td>2</td>\n",
       "      <td>8</td>\n",
       "      <td>42</td>\n",
       "    </tr>\n",
       "  </tbody>\n",
       "</table>\n",
       "</div>"
      ],
      "text/plain": [
       "chest_pain_type        1   2   3   4\n",
       "heart_disease_present               \n",
       "0                      6  18  32  16\n",
       "1                      2   2   8  42"
      ]
     },
     "execution_count": 10,
     "metadata": {},
     "output_type": "execute_result"
    }
   ],
   "source": [
    "# 5. chest pain type vs heart disease\n",
    "ct_table5 = pd.crosstab(y_train['heart_disease_present'], X_train['chest_pain_type'], margins=False)\n",
    "chi2, p, dof, ex = chi2_contingency(ct_table5, correction=True)\n",
    "# print(chi2, p, dof, ex)\n",
    "\n",
    "print( 'P is %f' %p )\n",
    "if p <= 0.05:\n",
    "    print('H0 rejected, no indepence. Use feature in model.')\n",
    "else:\n",
    "    print('H0 not rejected, indepence. Do not use feature in model.')\n",
    "\n",
    "print('  ')\n",
    "print('Contingency table:')\n",
    "ct_table5"
   ]
  },
  {
   "cell_type": "code",
   "execution_count": 11,
   "metadata": {},
   "outputs": [
    {
     "name": "stdout",
     "output_type": "stream",
     "text": [
      "P is 0.298733\n",
      "H0 not rejected, indepence. Do not use feature in model.\n",
      "  \n",
      "Contingency table:\n"
     ]
    },
    {
     "data": {
      "text/html": [
       "<div>\n",
       "<style scoped>\n",
       "    .dataframe tbody tr th:only-of-type {\n",
       "        vertical-align: middle;\n",
       "    }\n",
       "\n",
       "    .dataframe tbody tr th {\n",
       "        vertical-align: top;\n",
       "    }\n",
       "\n",
       "    .dataframe thead th {\n",
       "        text-align: right;\n",
       "    }\n",
       "</style>\n",
       "<table border=\"1\" class=\"dataframe\">\n",
       "  <thead>\n",
       "    <tr style=\"text-align: right;\">\n",
       "      <th>resting_ekg_results</th>\n",
       "      <th>0</th>\n",
       "      <th>1</th>\n",
       "      <th>2</th>\n",
       "    </tr>\n",
       "    <tr>\n",
       "      <th>heart_disease_present</th>\n",
       "      <th></th>\n",
       "      <th></th>\n",
       "      <th></th>\n",
       "    </tr>\n",
       "  </thead>\n",
       "  <tbody>\n",
       "    <tr>\n",
       "      <th>0</th>\n",
       "      <td>38</td>\n",
       "      <td>0</td>\n",
       "      <td>34</td>\n",
       "    </tr>\n",
       "    <tr>\n",
       "      <th>1</th>\n",
       "      <td>23</td>\n",
       "      <td>1</td>\n",
       "      <td>30</td>\n",
       "    </tr>\n",
       "  </tbody>\n",
       "</table>\n",
       "</div>"
      ],
      "text/plain": [
       "resting_ekg_results     0  1   2\n",
       "heart_disease_present           \n",
       "0                      38  0  34\n",
       "1                      23  1  30"
      ]
     },
     "execution_count": 11,
     "metadata": {},
     "output_type": "execute_result"
    }
   ],
   "source": [
    "# 6. resting EKG results vs heart disease\n",
    "ct_table6 = pd.crosstab(y_train['heart_disease_present'], X_train['resting_ekg_results'], margins=False)\n",
    "chi2, p, dof, ex = chi2_contingency(ct_table6, correction=True)\n",
    "# print(chi2, p, dof, ex)\n",
    "\n",
    "print( 'P is %f' %p )\n",
    "if p <= 0.05:\n",
    "    print('H0 rejected, no indepence. Use feature in model.')\n",
    "else:\n",
    "    print('H0 not rejected, indepence. Do not use feature in model.')\n",
    "\n",
    "print('  ')\n",
    "print('Contingency table:')\n",
    "ct_table6"
   ]
  },
  {
   "cell_type": "code",
   "execution_count": 12,
   "metadata": {},
   "outputs": [],
   "source": [
    "# deleting Resting EKG results from datasets\n",
    "EKG_cols = ['restingEkg_0', 'restingEkg_1', 'restingEkg_2']\n",
    "poly_train_df.drop(EKG_cols, axis=1, inplace=True)\n",
    "poly_test_df.drop(EKG_cols, axis=1, inplace=True)"
   ]
  },
  {
   "cell_type": "markdown",
   "metadata": {},
   "source": [
    "## Feature selection: numerical features (using the Lasso)"
   ]
  },
  {
   "cell_type": "code",
   "execution_count": 34,
   "metadata": {},
   "outputs": [
    {
     "data": {
      "image/png": "[encoded data removed]",
      "text/plain": [
       "<Figure size 432x288 with 1 Axes>"
      ]
     },
     "metadata": {
      "needs_background": "light"
     },
     "output_type": "display_data"
    }
   ],
   "source": [
    "X = poly_train_df\n",
    "C_list = np.arange(.1, 5.0, .2)\n",
    "crossVal_loss = np.zeros(len(C_list))\n",
    "\n",
    "for j in range(len(C_list)):\n",
    "    str_kFold = StratifiedKFold(n_splits=10, shuffle=True, random_state=1)\n",
    "    crossVal_performance = np.zeros(str_kFold.get_n_splits())\n",
    "    logRes_params = LogisticRegression(penalty='l1', C=C_list[j], \n",
    "                    fit_intercept=False, tol=1e-8, solver='liblinear', max_iter=300)\n",
    "    i=int(0)\n",
    "    for iTrain, iCross in str_kFold.split(X, y):\n",
    "        X_train, X_cross = X.iloc[iTrain], X.iloc[iCross]\n",
    "        y_train, y_cross = y.iloc[iTrain], y.iloc[iCross]\n",
    "        model_i = logRes_params.fit(X_train, np.ravel(y_train))\n",
    "        prob_i = model_i.predict_proba(X_cross)\n",
    "        crossVal_performance[i] = logLoss(y_cross, prob_i)[0,1]\n",
    "        i+=1\n",
    "    crossVal_loss[j] = np.mean(crossVal_performance)\n",
    "\n",
    "plt.plot(C_list, crossVal_loss)\n",
    "plt.xlabel('C')\n",
    "plt.ylabel('Crossvalidation performance')\n",
    "plt.title('What C to choose?');"
   ]
  },
  {
   "cell_type": "code",
   "execution_count": 38,
   "metadata": {},
   "outputs": [
    {
     "name": "stdout",
     "output_type": "stream",
     "text": [
      "C=0.25 seems optimal\n"
     ]
    },
    {
     "data": {
      "image/png": "[encoded data removed]",
      "text/plain": [
       "<Figure size 432x288 with 1 Axes>"
      ]
     },
     "metadata": {
      "needs_background": "light"
     },
     "output_type": "display_data"
    }
   ],
   "source": [
    "# \"zooming in\" on minimum. Change C_list\n",
    "C_list = np.arange(.1, 1.0, .05)\n",
    "crossVal_loss = np.zeros(len(C_list))\n",
    "\n",
    "for j in range(len(C_list)):\n",
    "    str_kFold = StratifiedKFold(n_splits=10, shuffle=True, random_state=1)\n",
    "    crossVal_performance = np.zeros(str_kFold.get_n_splits())\n",
    "    logRes_params = LogisticRegression(penalty='l1', C=C_list[j], \n",
    "                    fit_intercept=False, tol=1e-8, solver='liblinear', max_iter=300)\n",
    "    i=int(0)\n",
    "    for iTrain, iCross in str_kFold.split(X, y):\n",
    "        X_train, X_cross = X.iloc[iTrain], X.iloc[iCross]\n",
    "        y_train, y_cross = y.iloc[iTrain], y.iloc[iCross]\n",
    "        model_i = logRes_params.fit(X_train, np.ravel(y_train))\n",
    "        prob_i = model_i.predict_proba(X_cross)\n",
    "        crossVal_performance[i] = logLoss(y_cross, prob_i)[0,1]\n",
    "        i+=1\n",
    "    crossVal_loss[j] = np.mean(crossVal_performance)\n",
    "\n",
    "plt.plot(C_list, crossVal_loss)\n",
    "plt.xlabel('C')\n",
    "plt.ylabel('Crossvalidation performance')\n",
    "plt.title('Zooming in: What C to choose?');\n",
    "\n",
    "print('C=0.25 seems optimal')"
   ]
  },
  {
   "cell_type": "code",
   "execution_count": 42,
   "metadata": {},
   "outputs": [
    {
     "name": "stdout",
     "output_type": "stream",
     "text": [
      "crossval performance: 0.44742\n",
      "train performance: 0.37651\n"
     ]
    }
   ],
   "source": [
    "# the model with C=0.25:\n",
    "logRes_params = LogisticRegression(penalty='l1', C=0.25, \n",
    "        fit_intercept=False, tol=1e-8, solver='liblinear', max_iter=300)\n",
    "\n",
    "# performance on crossval set:\n",
    "str_kFold = StratifiedKFold(n_splits=10, shuffle=True, random_state=1)\n",
    "crossVal_performance = np.zeros(str_kFold.get_n_splits())\n",
    "i=int(0)\n",
    "for iTrain, iCross in str_kFold.split(X, y):\n",
    "    X_train, X_cross = X.iloc[iTrain], X.iloc[iCross]\n",
    "    y_train, y_cross = y.iloc[iTrain], y.iloc[iCross]\n",
    "    model_i = logRes_params.fit(X_train, np.ravel(y_train))\n",
    "    prob_i = model_i.predict_proba(X_cross)\n",
    "    crossVal_performance[i] = logLoss(y_cross, prob_i)[0,1]\n",
    "    i+=1\n",
    "print('crossval performance: %0.5f' %np.mean(crossVal_performance))\n",
    "\n",
    "# performance on entire train set:\n",
    "logRes_fit = logRes_params.fit(X, np.ravel(y))\n",
    "train_prob = logRes_fit.predict_proba(X)\n",
    "print('train performance: %0.5f' %logLoss(y, train_prob)[0,1])"
   ]
  },
  {
   "cell_type": "markdown",
   "metadata": {},
   "source": []
  },
  {
   "cell_type": "code",
   "execution_count": 41,
   "metadata": {},
   "outputs": [
    {
     "name": "stdout",
     "output_type": "stream",
     "text": [
      "gives a test performance of 0.37544\n"
     ]
    }
   ],
   "source": [
    "# performance on test set:\n",
    "test_probab = logRes_fit.predict_proba(poly_test_df)[:,1]\n",
    "\n",
    "# saving test results\n",
    "d = {'heart_disease_present': test_probab}\n",
    "submission_df = pd.DataFrame(data=d, index=poly_test_df.index)\n",
    "submission_df.to_csv('../logResModel_Lasso1_results.csv')\n",
    "\n",
    "print('gives a test performance of 0.37544')"
   ]
  },
  {
   "cell_type": "markdown",
   "metadata": {},
   "source": [
    "Let's try if an elastic net can improve results. "
   ]
  },
  {
   "cell_type": "code",
   "execution_count": 54,
   "metadata": {},
   "outputs": [],
   "source": [
    "alpha_list = np.arange(0.1, 5.1, 0.5)\n",
    "ratio_list = np.arange(0.0, 1.0, 0.1)\n",
    "crossVal_loss = np.zeros((len(alpha_list), len(ratio_list)))\n",
    "\n",
    "for j in range(len(alpha_list)):\n",
    "    for k in range(len(ratio_list)): \n",
    "        elasticNet_params =  SGDClassifier(loss='log', penalty='elasticnet', \n",
    "            alpha=alpha_list[j], l1_ratio=ratio_list[k], fit_intercept=False, \n",
    "            max_iter=300)\n",
    "        str_kFold = StratifiedKFold(n_splits=10, shuffle=True, random_state=1)\n",
    "        crossVal_performance = np.zeros(str_kFold.get_n_splits())\n",
    "        i=int(0)\n",
    "        for iTrain, iCross in str_kFold.split(X, y):\n",
    "            X_train, X_cross = X.iloc[iTrain], X.iloc[iCross]\n",
    "            y_train, y_cross = y.iloc[iTrain], y.iloc[iCross]\n",
    "            model_i = elasticNet_params.fit(X_train, np.ravel(y_train))\n",
    "            prob_i = model_i.predict_proba(X_cross)\n",
    "            crossVal_performance[i] = logLoss(y_cross, prob_i)[0,1]\n",
    "            i+=1\n",
    "        crossVal_loss[j,k] = np.mean(crossVal_performance)"
   ]
  },
  {
   "cell_type": "code",
   "execution_count": 55,
   "metadata": {},
   "outputs": [
    {
     "name": "stdout",
     "output_type": "stream",
     "text": [
      "best performance is: 0.47281\n",
      "best alpha is: 0.100000\n",
      "best ratio is: 0.000000\n"
     ]
    }
   ],
   "source": [
    "best_fit = crossVal_loss.min()\n",
    "index_j, index_k = np.unravel_index(np.argmin(crossVal_loss), crossVal_loss.shape)\n",
    "print('best performance is: %0.5f' %best_fit)\n",
    "print('best alpha is: %f' %alpha_list[index_j])\n",
    "print('best ratio is: %f' %ratio_list[index_k])"
   ]
  },
  {
   "cell_type": "code",
   "execution_count": 56,
   "metadata": {},
   "outputs": [
    {
     "name": "stdout",
     "output_type": "stream",
     "text": [
      "best performance is: 0.44773\n",
      "best alpha is: 0.030000\n",
      "best ratio is: 0.900000\n"
     ]
    }
   ],
   "source": [
    "# Doing it again with smaller alphas..\n",
    "alpha_list = np.arange(0.01, 0.2, 0.01)\n",
    "ratio_list = np.arange(0.0, 1.0, 0.1)\n",
    "crossVal_loss = np.zeros((len(alpha_list), len(ratio_list)))\n",
    "\n",
    "for j in range(len(alpha_list)):\n",
    "    for k in range(len(ratio_list)): \n",
    "        elasticNet_params =  SGDClassifier(loss='log', penalty='elasticnet', \n",
    "            alpha=alpha_list[j], l1_ratio=ratio_list[k], fit_intercept=False, \n",
    "            max_iter=300)\n",
    "        str_kFold = StratifiedKFold(n_splits=10, shuffle=True, random_state=1)\n",
    "        crossVal_performance = np.zeros(str_kFold.get_n_splits())\n",
    "        i=int(0)\n",
    "        for iTrain, iCross in str_kFold.split(X, y):\n",
    "            X_train, X_cross = X.iloc[iTrain], X.iloc[iCross]\n",
    "            y_train, y_cross = y.iloc[iTrain], y.iloc[iCross]\n",
    "            model_i = elasticNet_params.fit(X_train, np.ravel(y_train))\n",
    "            prob_i = model_i.predict_proba(X_cross)\n",
    "            crossVal_performance[i] = logLoss(y_cross, prob_i)[0,1]\n",
    "            i+=1\n",
    "        crossVal_loss[j,k] = np.mean(crossVal_performance)\n",
    "        \n",
    "best_fit = crossVal_loss.min()\n",
    "index_j, index_k = np.unravel_index(np.argmin(crossVal_loss), crossVal_loss.shape)\n",
    "print('best performance is: %0.5f' %best_fit)\n",
    "print('best alpha is: %f' %alpha_list[index_j])\n",
    "print('best ratio is: %f' %ratio_list[index_k])"
   ]
  },
  {
   "cell_type": "code",
   "execution_count": 71,
   "metadata": {},
   "outputs": [
    {
     "name": "stdout",
     "output_type": "stream",
     "text": [
      "best performance is: 0.44107\n",
      "best alpha is: 0.028000\n",
      "best ratio is: 0.900000\n"
     ]
    }
   ],
   "source": [
    "# Again..\n",
    "alpha_list = np.arange(0.02, 0.04, 0.001)\n",
    "ratio_list = np.arange(0.8, 1.0, 0.05)\n",
    "crossVal_loss = np.zeros((len(alpha_list), len(ratio_list)))\n",
    "\n",
    "for j in range(len(alpha_list)):\n",
    "    for k in range(len(ratio_list)): \n",
    "        elasticNet_params =  SGDClassifier(loss='log', penalty='elasticnet', \n",
    "            alpha=alpha_list[j], l1_ratio=ratio_list[k], fit_intercept=False, \n",
    "            max_iter=300)\n",
    "        str_kFold = StratifiedKFold(n_splits=10, shuffle=True, random_state=1)\n",
    "        crossVal_performance = np.zeros(str_kFold.get_n_splits())\n",
    "        i=int(0)\n",
    "        for iTrain, iCross in str_kFold.split(X, y):\n",
    "            X_train, X_cross = X.iloc[iTrain], X.iloc[iCross]\n",
    "            y_train, y_cross = y.iloc[iTrain], y.iloc[iCross]\n",
    "            model_i = elasticNet_params.fit(X_train, np.ravel(y_train))\n",
    "            prob_i = model_i.predict_proba(X_cross)\n",
    "            crossVal_performance[i] = logLoss(y_cross, prob_i)[0,1]\n",
    "            i+=1\n",
    "        crossVal_loss[j,k] = np.mean(crossVal_performance)\n",
    "        \n",
    "best_fit = crossVal_loss.min()\n",
    "index_j, index_k = np.unravel_index(np.argmin(crossVal_loss), crossVal_loss.shape)\n",
    "print('best performance is: %0.5f' %best_fit)\n",
    "print('best alpha is: %f' %alpha_list[index_j])\n",
    "print('best ratio is: %f' %ratio_list[index_k])\n"
   ]
  },
  {
   "cell_type": "code",
   "execution_count": null,
   "metadata": {},
   "outputs": [],
   "source": [
    "# test test test"
   ]
  },
  {
   "cell_type": "code",
   "execution_count": null,
   "metadata": {},
   "outputs": [],
   "source": []
  }
 ],
 "metadata": {
  "kernelspec": {
   "display_name": "Python 2",
   "language": "python",
   "name": "python2"
  },
  "language_info": {
   "codemirror_mode": {
    "name": "ipython",
    "version": 2
   },
   "file_extension": ".py",
   "mimetype": "text/x-python",
   "name": "python",
   "nbconvert_exporter": "python",
   "pygments_lexer": "ipython2",
   "version": "2.7.15"
  }
 },
 "nbformat": 4,
 "nbformat_minor": 2
}
