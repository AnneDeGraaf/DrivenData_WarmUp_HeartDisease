{
 "cells": [
  {
   "cell_type": "markdown",
   "metadata": {},
   "source": [
    "# DrivenData: Heart disease prediction using Logistic Regression and SVM\n",
    "\n",
    "###### BY ANNE DE GRAAF\n",
    "\n",
    "This notebook is meant to show my train of thoughts during the development of prediction model for the heart disease warm-up exercise on DrivenData.org. \n",
    "\n",
    "Prior to writing this notebook I had already evaluated the data set and applied z-score normalization to the numerical data and one-hot encoding to the categorical data (see also \"data_processing.py\" in this repository).\n",
    "\n",
    "The final score of my logistic regression model was 0.32931, which was 16th place at the time of submitting.\n",
    "\n",
    "\n",
    "[keywords: logistic regression, SVM, crossvalidation, bias, variance, k-fold, stratified k-fold, leave-p-out]"
   ]
  },
  {
   "cell_type": "code",
   "execution_count": 2,
   "metadata": {},
   "outputs": [],
   "source": [
    "from sklearn.model_selection import train_test_split, KFold, StratifiedKFold, GridSearchCV\n",
    "from sklearn.linear_model import LogisticRegression\n",
    "from sklearn.svm import LinearSVC, SVC, SVR\n",
    "import pandas as pd \n",
    "import numpy as np \n",
    "from functions import logLoss, logLoss2\n",
    "from matplotlib import pyplot as plt\n",
    "from mpl_toolkits.mplot3d import Axes3D\n",
    "from matplotlib import cm\n",
    "from matplotlib.ticker import LinearLocator, FormatStrFormatter\n",
    "%matplotlib inline"
   ]
  },
  {
   "cell_type": "code",
   "execution_count": 3,
   "metadata": {},
   "outputs": [],
   "source": [
    "# load training data\n",
    "allFeatures = pd.read_csv('../train_values_normalized.csv', index_col=0)\n",
    "y = pd.read_csv('../train_labels.csv', index_col=0)"
   ]
  },
  {
   "cell_type": "markdown",
   "metadata": {},
   "source": [
    "### First model: using 6 input features"
   ]
  },
  {
   "cell_type": "code",
   "execution_count": 4,
   "metadata": {},
   "outputs": [
    {
     "name": "stdout",
     "output_type": "stream",
     "text": [
      "log loss on crossval set is: 0.55285\n",
      "after 39 iterations\n"
     ]
    }
   ],
   "source": [
    "# selection of input features to use in this model:\n",
    "useCols = ['resting_blood_pressure','age','chestPain_1',\n",
    "           'chestPain_2','chestPain_3','chestPain_4']\n",
    "X = allFeatures[useCols]\n",
    "\n",
    "# split the train set in train and crossval set\n",
    "X_train, X_cross, y_train, y_cross = train_test_split(X, y, \n",
    "                                test_size=0.3, random_state=0)\n",
    "\n",
    "# apply logistic regression and predict crossval set\n",
    "logResModel = LogisticRegression(penalty='l1', tol=1e-8, solver='liblinear').fit(X_train, \n",
    "                                                np.ravel(y_train))\n",
    "prob = logResModel.predict_proba(X_cross)\n",
    "loss = logLoss(y_cross, prob)[0,1]\n",
    "num_iter = logResModel.n_iter_\n",
    "print('log loss on crossval set is: %0.5f' %loss)\n",
    "print('after %d iterations' %num_iter)"
   ]
  },
  {
   "cell_type": "markdown",
   "metadata": {},
   "source": [
    "This log loss value is bit higher than the \"Logistic Regression Benchmark\" of 0.5381 (based on TEST set) on the competition's leader board. (high log loss value == not good)\n",
    "##### So let's perform some error analysis to see what we can improve\n",
    "\n",
    "### Comparing loss on crossval set and loss on training set:"
   ]
  },
  {
   "cell_type": "code",
   "execution_count": 5,
   "metadata": {},
   "outputs": [
    {
     "name": "stdout",
     "output_type": "stream",
     "text": [
      "log loss on training set is: 0.55705\n"
     ]
    }
   ],
   "source": [
    "trainProb = logResModel.predict_proba(X_train)\n",
    "trainLoss = logLoss(y_train, trainProb)[0,1]\n",
    "print('log loss on training set is: %0.5f' %trainLoss)"
   ]
  },
  {
   "cell_type": "markdown",
   "metadata": {},
   "source": [
    "The error on the training set is high too, so this indicates we have a bias (underfit) problem. This was to be expected as I only used a very limited amount of features.\n",
    "\n",
    "Let's make a model with all the available input features.\n",
    "\n",
    "### Second model: using all input features"
   ]
  },
  {
   "cell_type": "code",
   "execution_count": 6,
   "metadata": {},
   "outputs": [
    {
     "name": "stdout",
     "output_type": "stream",
     "text": [
      "log loss on crossval set is: 0.52440\n",
      "after 36 iterations\n",
      "log loss on training set is: 0.31098\n"
     ]
    }
   ],
   "source": [
    "# split the train set in train and crossval set\n",
    "X_train, X_cross, y_train, y_cross = train_test_split(allFeatures, y, \n",
    "                                test_size=0.3, random_state=0)\n",
    "\n",
    "# apply logistic regression and predict crossval set\n",
    "logResModel2 = LogisticRegression(penalty='l1', tol=1e-8, solver='liblinear').fit(X_train, \n",
    "                                                np.ravel(y_train))\n",
    "prob = logResModel2.predict_proba(X_cross)\n",
    "loss = logLoss(y_cross, prob)[0,1]\n",
    "num_iter = logResModel2.n_iter_\n",
    "print('log loss on crossval set is: %0.5f' %loss)\n",
    "print('after %d iterations' %num_iter)\n",
    "\n",
    "trainProb2 = logResModel2.predict_proba(X_train)\n",
    "trainLoss2 = logLoss(y_train, trainProb2)[0,1]\n",
    "print('log loss on training set is: %0.5f' %trainLoss2)"
   ]
  },
  {
   "cell_type": "markdown",
   "metadata": {},
   "source": [
    "Before we evaluate these results, let's apply the model to the test set and upload the results to DrivenData to see our score."
   ]
  },
  {
   "cell_type": "code",
   "execution_count": 6,
   "metadata": {},
   "outputs": [],
   "source": [
    "# loading test data\n",
    "X_test = pd.read_csv('../test_values_normalized.csv', index_col=0)\n",
    "prob_test = logResModel2.predict_proba(X_test)[:,1]\n",
    "\n",
    "# saving test results\n",
    "d = {'heart_disease_present': prob_test}\n",
    "submission_df = pd.DataFrame(data=d, index=X_test.index)\n",
    "submission_df.to_csv('../logResModel2_results.csv')"
   ]
  },
  {
   "cell_type": "markdown",
   "metadata": {},
   "source": [
    "log loss on the test set is: 0.3757\n",
    "\n",
    "This is quite a higher score than the \"Logistic Regression Benchmark\".\n",
    "\n",
    "However, the gap between our performance on the crossval set and the training set is hugely increased. \n",
    "This points towards a high variance problem (or overfitting). The funny thing is that our performance on the test set is a lot better however than the performance on the crossval set. This might be due to the fact that we used the simple holdout method for our crossvalidation: as our crossval set is quite small, its performance is highly dependent of which data points happen to end up in the set. So in fact, the performance on the crossval set doesn't tell us that much about the actual performance of the model on the test set (as indicated by the huge difference between the 0.3757 performance on the test set and the 0.5244 on the crossval set).\n",
    "\n",
    "To obtain a more accurate indication of our performance on the crossval set, we will now perform k-fold cross-validation. Here, we will use k=10. We will apply normal k-fold and stratified k-fold, to see the effect of a more balanced crossvalidation set on the accuracy of our prediction.\n",
    "\n",
    "### K-fold cross-validation (with k=10)"
   ]
  },
  {
   "cell_type": "code",
   "execution_count": 27,
   "metadata": {},
   "outputs": [
    {
     "name": "stdout",
     "output_type": "stream",
     "text": [
      "('cross-validation performance on the 10 folds:', array([0.42079774, 0.35088379, 0.72657561, 0.51199022, 0.26850179,\n",
      "       0.37894377, 0.47186357, 0.48726342, 0.45332678, 0.30403835]))\n",
      "mean cross-validation performance: 0.43742\n"
     ]
    }
   ],
   "source": [
    "kFold = KFold(n_splits=10, shuffle=True, random_state=5)\n",
    "X = allFeatures\n",
    "crossVal_performance = np.zeros(kFold.get_n_splits())\n",
    "i=int(0)\n",
    "for iTrain, iCross in kFold.split(X, y):\n",
    "    X_train, X_cross = X.iloc[iTrain], X.iloc[iCross]\n",
    "    y_train, y_cross = y.iloc[iTrain], y.iloc[iCross]\n",
    "    model_i = LogisticRegression(penalty='l1', tol=1e-8, solver='liblinear').fit(X_train, np.ravel(y_train))\n",
    "    prob_i = model_i.predict_proba(X_cross)\n",
    "    crossVal_performance[i] = logLoss(y_cross, prob_i)[0,1]\n",
    "    i+=1\n",
    "    \n",
    "print('cross-validation performance on the 10 folds:', crossVal_performance)\n",
    "print('mean cross-validation performance: %0.5f' %np.mean(crossVal_performance))"
   ]
  },
  {
   "cell_type": "markdown",
   "metadata": {},
   "source": [
    "### Stratified k-fold cross-validation (with k=10)"
   ]
  },
  {
   "cell_type": "code",
   "execution_count": 28,
   "metadata": {},
   "outputs": [
    {
     "name": "stdout",
     "output_type": "stream",
     "text": [
      "('cross-validation performance on the stratified 10 folds:', array([0.56053498, 0.4801201 , 0.6141752 , 0.51849083, 0.14828601,\n",
      "       0.20197602, 0.22935378, 0.40995184, 0.67498694, 0.59134165]))\n",
      "mean cross-validation performance: 0.44292\n"
     ]
    }
   ],
   "source": [
    "str_kFold = StratifiedKFold(n_splits=10, shuffle=True, random_state=1)\n",
    "crossVal_performance = np.zeros(str_kFold.get_n_splits())\n",
    "i=int(0)\n",
    "for iTrain, iCross in str_kFold.split(X, y):\n",
    "    X_train, X_cross = X.iloc[iTrain], X.iloc[iCross]\n",
    "    y_train, y_cross = y.iloc[iTrain], y.iloc[iCross]\n",
    "    model_i = LogisticRegression(penalty='l1', tol=1e-8, solver='liblinear').fit(X_train, np.ravel(y_train))\n",
    "    prob_i = model_i.predict_proba(X_cross)\n",
    "    crossVal_performance[i] = logLoss(y_cross, prob_i)[0,1]\n",
    "    i+=1\n",
    "    \n",
    "print('cross-validation performance on the stratified 10 folds:', crossVal_performance)\n",
    "print('mean cross-validation performance: %0.5f' %np.mean(crossVal_performance))\n",
    "    "
   ]
  },
  {
   "cell_type": "markdown",
   "metadata": {},
   "source": [
    "As can be seen, our performance on the crossval set is still off from the performance on the test set. \n",
    "There is one final thing we can do, which is Leave-P-Out cross validation. \n",
    "As our training set is small (only 180 samples), we'll take p=1, also called Leave-One-Out. This is equivalent to the k-fold split with k=180.\n",
    "Also, we'll play with the LogisticRegression parameters a bit to get the lowest cross-validation estimate.\n",
    "\n",
    "### Leave-One-Out cross-validation"
   ]
  },
  {
   "cell_type": "code",
   "execution_count": 29,
   "metadata": {},
   "outputs": [
    {
     "name": "stdout",
     "output_type": "stream",
     "text": [
      "mean cross-validation performance: 0.43205\n"
     ]
    }
   ],
   "source": [
    "leaveOneOut = KFold(n_splits=180)\n",
    "crossVal_performance = np.zeros(leaveOneOut.get_n_splits())\n",
    "i=int(0)\n",
    "for iTrain, iCross in leaveOneOut.split(X, y):\n",
    "    X_train, X_cross = X.iloc[iTrain], X.iloc[iCross]\n",
    "    y_train, y_cross = y.iloc[iTrain], y.iloc[iCross]\n",
    "    model_i = LogisticRegression(penalty='l2', tol=1e-8, solver='liblinear').fit(X_train, np.ravel(y_train))\n",
    "    prob_i = model_i.predict_proba(X_cross)\n",
    "    crossVal_performance[i] = logLoss(y_cross, prob_i)[0,1]\n",
    "    i+=1\n",
    "\n",
    "print('mean cross-validation performance: %0.5f' %np.mean(crossVal_performance))"
   ]
  },
  {
   "cell_type": "markdown",
   "metadata": {},
   "source": [
    "So we got a little bit closer, but it seems we can't get our crossvalidation performance to get any more accurate. \n",
    "This is not due to an overfitting problem it seems, but just to the fact that we have a small data set (the test set performance was a lot closer to the training set performance).\n",
    "\n",
    "Now let's fit out model to the entire training set and submit our final test set predictions. \n",
    "\n",
    "### Fit model on entire training set"
   ]
  },
  {
   "cell_type": "code",
   "execution_count": 32,
   "metadata": {},
   "outputs": [
    {
     "name": "stdout",
     "output_type": "stream",
     "text": [
      "log loss on training set is: 0.33812\n"
     ]
    }
   ],
   "source": [
    "# apply logistic regression on entire training set\n",
    "logResModel3 = LogisticRegression(penalty='l2', tol=1e-8, solver='liblinear').fit(allFeatures, \n",
    "                                                np.ravel(y))\n",
    "\n",
    "trainProb3 = logResModel3.predict_proba(allFeatures)\n",
    "trainLoss3 = logLoss(y, trainProb3)[0,1]\n",
    "print('log loss on training set is: %0.5f' %trainLoss3)"
   ]
  },
  {
   "cell_type": "markdown",
   "metadata": {},
   "source": [
    "### Evaluate performance on the test set"
   ]
  },
  {
   "cell_type": "code",
   "execution_count": 11,
   "metadata": {},
   "outputs": [],
   "source": [
    "# loading test data\n",
    "prob_test3 = logResModel3.predict_proba(X_test)[:,1]\n",
    "\n",
    "# saving test results\n",
    "d = {'heart_disease_present': prob_test3}\n",
    "submission_df = pd.DataFrame(data=d, index=X_test.index)\n",
    "submission_df.to_csv('../logResModel3_results.csv')"
   ]
  },
  {
   "cell_type": "markdown",
   "metadata": {},
   "source": [
    "##### Final result with logistic regression: log loss on test set is: 0.32931 (16th place on the leaderboard on Oct 10, 2018!)\n",
    "\n",
    "\n",
    "### What to do next?\n",
    "So how can we improve our performance from hereon?\n",
    "The performace of our model is measured by the log loss function. This function penalizes lack of confidence; in other words: if we output more extreme probabilities for our correct predictions, our score gets better.\n",
    "Let's plot the distribution of outputs on our train set."
   ]
  },
  {
   "cell_type": "code",
   "execution_count": 12,
   "metadata": {},
   "outputs": [
    {
     "data": {
      "image/png": "[encoded data removed]",
      "text/plain": [
       "<Figure size 432x288 with 1 Axes>"
      ]
     },
     "metadata": {
      "needs_background": "light"
     },
     "output_type": "display_data"
    }
   ],
   "source": [
    "plt.plot(np.sort(trainProb3[:,1]))\n",
    "plt.ylabel('output (P(x=1))')\n",
    "plt.xlabel('train set samples sorted by output')\n",
    "plt.title('Distribution of output of train set')\n",
    "plt.grid(b=1)"
   ]
  },
  {
   "cell_type": "markdown",
   "metadata": {},
   "source": [
    "The distribution is showing an s-curve. However, the curve is not very steep: there are a lot of samples around the 0.5 output. All these samples will cause a high penalization in the log loss function. We need a model that predicts more extreme -but correct- probabilities. So let's try a large margin classifier.\n",
    "\n",
    "### SVM classifier with linear kernel"
   ]
  },
  {
   "cell_type": "code",
   "execution_count": 13,
   "metadata": {},
   "outputs": [
    {
     "name": "stdout",
     "output_type": "stream",
     "text": [
      "mean cross-validation performance: 1.15213\n",
      "performance on train set is: 0.88353\n"
     ]
    }
   ],
   "source": [
    "# model parameters\n",
    "SVM1 = LinearSVC(dual=False, C=1)\n",
    "\n",
    "# determine performance on crossval set\n",
    "SVM_kFold = StratifiedKFold(n_splits=10, shuffle=True, random_state=1)\n",
    "crossVal_performance = np.zeros(SVM_kFold.get_n_splits())\n",
    "i=int(0)\n",
    "for iTrain, iCross in SVM_kFold.split(X, y):\n",
    "    X_train, X_cross = X.iloc[iTrain], X.iloc[iCross]\n",
    "    y_train, y_cross = y.iloc[iTrain], y.iloc[iCross]\n",
    "    SVM_model_i = SVM1.fit(X_train, np.ravel(y_train))\n",
    "    assign_class = SVM_model_i.predict(X_cross)\n",
    "    class_prob = np.transpose([[0.999 if x==1 else 0.001 for x in assign_class]])  # we can't take log(0)\n",
    "    crossVal_performance[i] = logLoss(y_cross, class_prob)\n",
    "    i+=1\n",
    "print('mean cross-validation performance: %0.5f' %np.mean(crossVal_performance))\n",
    "\n",
    "# fit on all train data and give performance on train set\n",
    "svmModel1 = SVM1.fit(X, np.ravel(y))\n",
    "assign_class = svmModel1.predict(X)\n",
    "class_prob = np.transpose([[0.999 if x==1 else 0.001 for x in assign_class]])\n",
    "print('performance on train set is: %0.5f' %logLoss(y, class_prob))"
   ]
  },
  {
   "cell_type": "markdown",
   "metadata": {},
   "source": [
    "So it doesn't really seem like we improved our performance. Let's try optimizing the SVM kernel and parameters. \n",
    "\n",
    "### SVM optimization"
   ]
  },
  {
   "cell_type": "code",
   "execution_count": 14,
   "metadata": {},
   "outputs": [
    {
     "data": {
      "image/png": "[encoded data removed]",
      "text/plain": [
       "<Figure size 432x288 with 2 Axes>"
      ]
     },
     "metadata": {
      "needs_background": "light"
     },
     "output_type": "display_data"
    },
    {
     "name": "stdout",
     "output_type": "stream",
     "text": [
      "performance on train set is: 0.84516\n"
     ]
    }
   ],
   "source": [
    "svc = SVC(kernel='rbf')\n",
    "C = np.arange(0.01,5.01,0.5)\n",
    "gamma = [0.001, 0.003, 0.01, 0.03, 0.1, 0.3, 1.0]\n",
    "parameters = {'C':C, 'gamma':gamma}\n",
    "search = GridSearchCV(svc, parameters, cv=10)\n",
    "best_fit = search.fit(X, np.ravel(y))\n",
    "\n",
    "# plot the results\n",
    "params_grid = best_fit.cv_results_['params'][:]\n",
    "C_grid = np.array([[sub_dict['C'] for sub_dict in params_grid]])\n",
    "gamma_grid = np.array([[sub_dict['gamma'] for sub_dict in params_grid]])\n",
    "test_perf_grid = np.array([best_fit.cv_results_['mean_test_score']])\n",
    "\n",
    "C_grid = C_grid.reshape(10,7)\n",
    "gamma_grid = gamma_grid.reshape(10,7)\n",
    "test_perf_grid = test_perf_grid.reshape(10,7)\n",
    "\n",
    "\n",
    "fig = plt.figure()\n",
    "ax = fig.gca(projection='3d')\n",
    "plt.title('Finding best fit for C and gamma')\n",
    "plot3d = ax.plot_surface(C_grid, gamma_grid, test_perf_grid, cmap=cm.RdYlBu, linewidth=0.1, antialiased=False)\n",
    "fig.colorbar(plot3d, shrink=0.5, aspect=5)\n",
    "plot3d = ax.plot(C_grid[test_perf_grid==np.min(test_perf_grid)], gamma_grid[test_perf_grid==np.min(test_perf_grid)], \n",
    "                 np.min(test_perf_grid), 'ro')\n",
    "plt.xlabel('C')\n",
    "plt.ylabel('gamma')\n",
    "plt.show()\n",
    "\n",
    "\n",
    "assign_class = best_fit.predict(X)\n",
    "class_prob = np.transpose([[0.999 if x==1 else 0.001 for x in assign_class]])\n",
    "print('performance on train set is: %0.5f' %logLoss(y,class_prob))"
   ]
  },
  {
   "cell_type": "markdown",
   "metadata": {},
   "source": [
    "This plot makes me nervous. Doesn't seem like something smart is happening.\n",
    "Multiple minima?? And it still returns one \"best fit\"?\n",
    "\n",
    "I'm going to start a new notebook. "
   ]
  },
  {
   "cell_type": "code",
   "execution_count": null,
   "metadata": {},
   "outputs": [],
   "source": []
  },
  {
   "cell_type": "code",
   "execution_count": 15,
   "metadata": {},
   "outputs": [],
   "source": [
    "# a, b = zip(*sorted(zip(trainProb3[:,1], class_prob)))\n",
    "\n",
    "# plt.plot(a, 'blue', label='logRegression')\n",
    "# plt.plot(b, 'green', label='SVM linear kernel')\n",
    "# plt.ylabel('output (P(x=1))')\n",
    "# plt.xlabel('train set samples sorted by logRegression output')\n",
    "# plt.title('Comparison of logRegression and SVM output')\n",
    "# plt.legend(loc='best')\n",
    "# plt.grid(b=1)"
   ]
  },
  {
   "cell_type": "markdown",
   "metadata": {},
   "source": [
    "Well, we can see the SVM performs very similarly to logistic regression. In general, samples with a high probability output in Logistic Regression are classified as 1 in SVM, and those with low probability in LR are classified 0. In the middle it can be seen that the more ambiguous samples are chaotically classified 0 and 1 by the SVM. \n",
    "\n",
    "The big disadvantage of SVM in terms of our log loss function is of course that a single mis-classification immediately leads to an additional 0.017 to the loss. Maybe regression with SVM works better.\n"
   ]
  },
  {
   "cell_type": "code",
   "execution_count": null,
   "metadata": {},
   "outputs": [],
   "source": []
  },
  {
   "cell_type": "code",
   "execution_count": 16,
   "metadata": {},
   "outputs": [
    {
     "data": {
      "text/plain": [
       "1"
      ]
     },
     "execution_count": 16,
     "metadata": {},
     "output_type": "execute_result"
    }
   ],
   "source": [
    "foo = np.arange(9,0,-1)\n",
    "foo = foo.reshape(3,3)\n",
    "np.min(foo)"
   ]
  },
  {
   "cell_type": "code",
   "execution_count": null,
   "metadata": {},
   "outputs": [],
   "source": []
  }
 ],
 "metadata": {
  "kernelspec": {
   "display_name": "Python 2",
   "language": "python",
   "name": "python2"
  },
  "language_info": {
   "codemirror_mode": {
    "name": "ipython",
    "version": 2
   },
   "file_extension": ".py",
   "mimetype": "text/x-python",
   "name": "python",
   "nbconvert_exporter": "python",
   "pygments_lexer": "ipython2",
   "version": "2.7.15"
  }
 },
 "nbformat": 4,
 "nbformat_minor": 2
}
